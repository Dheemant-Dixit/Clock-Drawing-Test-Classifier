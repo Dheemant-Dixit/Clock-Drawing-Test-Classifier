{
 "cells": [
  {
   "cell_type": "markdown",
   "id": "67707ab3",
   "metadata": {
    "execution": {
     "iopub.execute_input": "2022-10-19T14:36:23.498434Z",
     "iopub.status.busy": "2022-10-19T14:36:23.497413Z",
     "iopub.status.idle": "2022-10-19T14:36:23.565483Z",
     "shell.execute_reply": "2022-10-19T14:36:23.564509Z",
     "shell.execute_reply.started": "2022-10-19T14:36:23.49839Z"
    },
    "papermill": {
     "duration": 0.009274,
     "end_time": "2022-10-22T10:09:04.950312",
     "exception": false,
     "start_time": "2022-10-22T10:09:04.941038",
     "status": "completed"
    },
    "tags": []
   },
   "source": [
    "#### Importing Libraries"
   ]
  },
  {
   "cell_type": "code",
   "execution_count": 1,
   "id": "017580a9",
   "metadata": {
    "_kg_hide-output": true,
    "execution": {
     "iopub.execute_input": "2022-10-22T10:09:04.968967Z",
     "iopub.status.busy": "2022-10-22T10:09:04.967753Z",
     "iopub.status.idle": "2022-10-22T10:09:16.626000Z",
     "shell.execute_reply": "2022-10-22T10:09:16.624869Z"
    },
    "papermill": {
     "duration": 11.670438,
     "end_time": "2022-10-22T10:09:16.628894",
     "exception": false,
     "start_time": "2022-10-22T10:09:04.958456",
     "status": "completed"
    },
    "tags": []
   },
   "outputs": [
    {
     "name": "stdout",
     "output_type": "stream",
     "text": [
      "Collecting timm\r\n",
      "  Downloading timm-0.6.11-py3-none-any.whl (548 kB)\r\n",
      "\u001b[2K     \u001b[90m━━━━━━━━━━━━━━━━━━━━━━━━━━━━━━━━━━━━━━━\u001b[0m \u001b[32m548.7/548.7 kB\u001b[0m \u001b[31m2.5 MB/s\u001b[0m eta \u001b[36m0:00:00\u001b[0m\r\n",
      "\u001b[?25hRequirement already satisfied: torch>=1.7 in /opt/conda/lib/python3.7/site-packages (from timm) (1.11.0)\r\n",
      "Requirement already satisfied: huggingface-hub in /opt/conda/lib/python3.7/site-packages (from timm) (0.10.1)\r\n",
      "Requirement already satisfied: pyyaml in /opt/conda/lib/python3.7/site-packages (from timm) (6.0)\r\n",
      "Requirement already satisfied: torchvision in /opt/conda/lib/python3.7/site-packages (from timm) (0.12.0)\r\n",
      "Requirement already satisfied: typing-extensions in /opt/conda/lib/python3.7/site-packages (from torch>=1.7->timm) (4.1.1)\r\n",
      "Requirement already satisfied: importlib-metadata in /opt/conda/lib/python3.7/site-packages (from huggingface-hub->timm) (4.13.0)\r\n",
      "Requirement already satisfied: packaging>=20.9 in /opt/conda/lib/python3.7/site-packages (from huggingface-hub->timm) (21.3)\r\n",
      "Requirement already satisfied: filelock in /opt/conda/lib/python3.7/site-packages (from huggingface-hub->timm) (3.7.1)\r\n",
      "Requirement already satisfied: requests in /opt/conda/lib/python3.7/site-packages (from huggingface-hub->timm) (2.28.1)\r\n",
      "Requirement already satisfied: tqdm in /opt/conda/lib/python3.7/site-packages (from huggingface-hub->timm) (4.64.0)\r\n",
      "Requirement already satisfied: pillow!=8.3.*,>=5.3.0 in /opt/conda/lib/python3.7/site-packages (from torchvision->timm) (9.1.1)\r\n",
      "Requirement already satisfied: numpy in /opt/conda/lib/python3.7/site-packages (from torchvision->timm) (1.21.6)\r\n",
      "Requirement already satisfied: pyparsing!=3.0.5,>=2.0.2 in /opt/conda/lib/python3.7/site-packages (from packaging>=20.9->huggingface-hub->timm) (3.0.9)\r\n",
      "Requirement already satisfied: zipp>=0.5 in /opt/conda/lib/python3.7/site-packages (from importlib-metadata->huggingface-hub->timm) (3.8.0)\r\n",
      "Requirement already satisfied: charset-normalizer<3,>=2 in /opt/conda/lib/python3.7/site-packages (from requests->huggingface-hub->timm) (2.1.0)\r\n",
      "Requirement already satisfied: urllib3<1.27,>=1.21.1 in /opt/conda/lib/python3.7/site-packages (from requests->huggingface-hub->timm) (1.26.12)\r\n",
      "Requirement already satisfied: certifi>=2017.4.17 in /opt/conda/lib/python3.7/site-packages (from requests->huggingface-hub->timm) (2022.9.24)\r\n",
      "Requirement already satisfied: idna<4,>=2.5 in /opt/conda/lib/python3.7/site-packages (from requests->huggingface-hub->timm) (3.3)\r\n",
      "Installing collected packages: timm\r\n",
      "Successfully installed timm-0.6.11\r\n",
      "\u001b[33mWARNING: Running pip as the 'root' user can result in broken permissions and conflicting behaviour with the system package manager. It is recommended to use a virtual environment instead: https://pip.pypa.io/warnings/venv\u001b[0m\u001b[33m\r\n",
      "\u001b[0m"
     ]
    }
   ],
   "source": [
    "!pip install timm"
   ]
  },
  {
   "cell_type": "markdown",
   "id": "62c1ba69",
   "metadata": {
    "papermill": {
     "duration": 0.008479,
     "end_time": "2022-10-22T10:09:16.646391",
     "exception": false,
     "start_time": "2022-10-22T10:09:16.637912",
     "status": "completed"
    },
    "tags": []
   },
   "source": [
    "# Libraries"
   ]
  },
  {
   "cell_type": "code",
   "execution_count": 2,
   "id": "e0777b15",
   "metadata": {
    "execution": {
     "iopub.execute_input": "2022-10-22T10:09:16.666439Z",
     "iopub.status.busy": "2022-10-22T10:09:16.666096Z",
     "iopub.status.idle": "2022-10-22T10:09:21.422158Z",
     "shell.execute_reply": "2022-10-22T10:09:21.421078Z"
    },
    "papermill": {
     "duration": 4.768281,
     "end_time": "2022-10-22T10:09:21.424684",
     "exception": false,
     "start_time": "2022-10-22T10:09:16.656403",
     "status": "completed"
    },
    "tags": []
   },
   "outputs": [],
   "source": [
    "import numpy as np\n",
    "import pandas as pd\n",
    "import matplotlib.pyplot as plt\n",
    "import seaborn as sns\n",
    "from statistics import mean\n",
    "\n",
    "from sklearn.model_selection import train_test_split\n",
    "from sklearn.metrics import accuracy_score\n",
    "import cv2\n",
    "\n",
    "import timm\n",
    "from tqdm import tqdm\n",
    "import torch\n",
    "import torch.nn as nn\n",
    "import torch.nn.functional as F\n",
    "from torch.optim import Adam, SGD, AdamW\n",
    "import torchvision.models as models\n",
    "from torch.utils.data import DataLoader, Dataset\n",
    "from torch.optim.lr_scheduler import StepLR\n",
    "\n",
    "import albumentations as A\n",
    "from albumentations.pytorch import ToTensorV2\n",
    "\n",
    "import warnings\n",
    "warnings.filterwarnings('ignore')"
   ]
  },
  {
   "cell_type": "code",
   "execution_count": 3,
   "id": "4c6f6a41",
   "metadata": {
    "execution": {
     "iopub.execute_input": "2022-10-22T10:09:21.445294Z",
     "iopub.status.busy": "2022-10-22T10:09:21.443642Z",
     "iopub.status.idle": "2022-10-22T10:09:21.510346Z",
     "shell.execute_reply": "2022-10-22T10:09:21.509424Z"
    },
    "papermill": {
     "duration": 0.079009,
     "end_time": "2022-10-22T10:09:21.512737",
     "exception": false,
     "start_time": "2022-10-22T10:09:21.433728",
     "status": "completed"
    },
    "tags": []
   },
   "outputs": [],
   "source": [
    "device = torch.device(\"cuda\" if torch.cuda.is_available() else \"cpu\")"
   ]
  },
  {
   "cell_type": "markdown",
   "id": "f102c17d",
   "metadata": {
    "papermill": {
     "duration": 0.008512,
     "end_time": "2022-10-22T10:09:21.530166",
     "exception": false,
     "start_time": "2022-10-22T10:09:21.521654",
     "status": "completed"
    },
    "tags": []
   },
   "source": [
    "# Dataset"
   ]
  },
  {
   "cell_type": "markdown",
   "id": "ea20927c",
   "metadata": {
    "papermill": {
     "duration": 0.008456,
     "end_time": "2022-10-22T10:09:21.547652",
     "exception": false,
     "start_time": "2022-10-22T10:09:21.539196",
     "status": "completed"
    },
    "tags": []
   },
   "source": [
    "#### Data Analysis\n",
    "* concetto_CDT contains images of hand-drawn clock\n",
    "* train_csv contain the corrsponding image id and their labels\n",
    "* test_csv contain the images which needs to be predicted"
   ]
  },
  {
   "cell_type": "code",
   "execution_count": 4,
   "id": "c5253661",
   "metadata": {
    "execution": {
     "iopub.execute_input": "2022-10-22T10:09:21.566236Z",
     "iopub.status.busy": "2022-10-22T10:09:21.565920Z",
     "iopub.status.idle": "2022-10-22T10:09:21.591568Z",
     "shell.execute_reply": "2022-10-22T10:09:21.590696Z"
    },
    "papermill": {
     "duration": 0.037487,
     "end_time": "2022-10-22T10:09:21.593676",
     "exception": false,
     "start_time": "2022-10-22T10:09:21.556189",
     "status": "completed"
    },
    "tags": []
   },
   "outputs": [],
   "source": [
    "train = pd.read_csv('../input/concetto22/train.csv')\n",
    "test = pd.read_csv('../input/concetto22/test.csv')"
   ]
  },
  {
   "cell_type": "code",
   "execution_count": 5,
   "id": "119b3982",
   "metadata": {
    "execution": {
     "iopub.execute_input": "2022-10-22T10:09:21.612907Z",
     "iopub.status.busy": "2022-10-22T10:09:21.612103Z",
     "iopub.status.idle": "2022-10-22T10:09:21.627789Z",
     "shell.execute_reply": "2022-10-22T10:09:21.626753Z"
    },
    "papermill": {
     "duration": 0.027787,
     "end_time": "2022-10-22T10:09:21.630255",
     "exception": false,
     "start_time": "2022-10-22T10:09:21.602468",
     "status": "completed"
    },
    "tags": []
   },
   "outputs": [
    {
     "data": {
      "text/html": [
       "<div>\n",
       "<style scoped>\n",
       "    .dataframe tbody tr th:only-of-type {\n",
       "        vertical-align: middle;\n",
       "    }\n",
       "\n",
       "    .dataframe tbody tr th {\n",
       "        vertical-align: top;\n",
       "    }\n",
       "\n",
       "    .dataframe thead th {\n",
       "        text-align: right;\n",
       "    }\n",
       "</style>\n",
       "<table border=\"1\" class=\"dataframe\">\n",
       "  <thead>\n",
       "    <tr style=\"text-align: right;\">\n",
       "      <th></th>\n",
       "      <th>id</th>\n",
       "      <th>tar</th>\n",
       "    </tr>\n",
       "  </thead>\n",
       "  <tbody>\n",
       "    <tr>\n",
       "      <th>0</th>\n",
       "      <td>20002859.0</td>\n",
       "      <td>5.0</td>\n",
       "    </tr>\n",
       "    <tr>\n",
       "      <th>1</th>\n",
       "      <td>10011157.0</td>\n",
       "      <td>5.0</td>\n",
       "    </tr>\n",
       "    <tr>\n",
       "      <th>2</th>\n",
       "      <td>10011996.0</td>\n",
       "      <td>5.0</td>\n",
       "    </tr>\n",
       "    <tr>\n",
       "      <th>3</th>\n",
       "      <td>10000364.0</td>\n",
       "      <td>5.0</td>\n",
       "    </tr>\n",
       "    <tr>\n",
       "      <th>4</th>\n",
       "      <td>20004294.0</td>\n",
       "      <td>3.0</td>\n",
       "    </tr>\n",
       "  </tbody>\n",
       "</table>\n",
       "</div>"
      ],
      "text/plain": [
       "           id  tar\n",
       "0  20002859.0  5.0\n",
       "1  10011157.0  5.0\n",
       "2  10011996.0  5.0\n",
       "3  10000364.0  5.0\n",
       "4  20004294.0  3.0"
      ]
     },
     "execution_count": 5,
     "metadata": {},
     "output_type": "execute_result"
    }
   ],
   "source": [
    "train.head()"
   ]
  },
  {
   "cell_type": "code",
   "execution_count": 6,
   "id": "c660494e",
   "metadata": {
    "execution": {
     "iopub.execute_input": "2022-10-22T10:09:21.649779Z",
     "iopub.status.busy": "2022-10-22T10:09:21.649505Z",
     "iopub.status.idle": "2022-10-22T10:09:21.657950Z",
     "shell.execute_reply": "2022-10-22T10:09:21.656929Z"
    },
    "papermill": {
     "duration": 0.02187,
     "end_time": "2022-10-22T10:09:21.661058",
     "exception": false,
     "start_time": "2022-10-22T10:09:21.639188",
     "status": "completed"
    },
    "tags": []
   },
   "outputs": [
    {
     "data": {
      "text/html": [
       "<div>\n",
       "<style scoped>\n",
       "    .dataframe tbody tr th:only-of-type {\n",
       "        vertical-align: middle;\n",
       "    }\n",
       "\n",
       "    .dataframe tbody tr th {\n",
       "        vertical-align: top;\n",
       "    }\n",
       "\n",
       "    .dataframe thead th {\n",
       "        text-align: right;\n",
       "    }\n",
       "</style>\n",
       "<table border=\"1\" class=\"dataframe\">\n",
       "  <thead>\n",
       "    <tr style=\"text-align: right;\">\n",
       "      <th></th>\n",
       "      <th>id</th>\n",
       "    </tr>\n",
       "  </thead>\n",
       "  <tbody>\n",
       "    <tr>\n",
       "      <th>0</th>\n",
       "      <td>10002998.0</td>\n",
       "    </tr>\n",
       "    <tr>\n",
       "      <th>1</th>\n",
       "      <td>10003172.0</td>\n",
       "    </tr>\n",
       "    <tr>\n",
       "      <th>2</th>\n",
       "      <td>20004712.0</td>\n",
       "    </tr>\n",
       "    <tr>\n",
       "      <th>3</th>\n",
       "      <td>20004205.0</td>\n",
       "    </tr>\n",
       "    <tr>\n",
       "      <th>4</th>\n",
       "      <td>20000346.0</td>\n",
       "    </tr>\n",
       "  </tbody>\n",
       "</table>\n",
       "</div>"
      ],
      "text/plain": [
       "           id\n",
       "0  10002998.0\n",
       "1  10003172.0\n",
       "2  20004712.0\n",
       "3  20004205.0\n",
       "4  20000346.0"
      ]
     },
     "execution_count": 6,
     "metadata": {},
     "output_type": "execute_result"
    }
   ],
   "source": [
    "test.head()"
   ]
  },
  {
   "cell_type": "code",
   "execution_count": 7,
   "id": "09fb95a3",
   "metadata": {
    "execution": {
     "iopub.execute_input": "2022-10-22T10:09:21.680078Z",
     "iopub.status.busy": "2022-10-22T10:09:21.679810Z",
     "iopub.status.idle": "2022-10-22T10:09:21.685314Z",
     "shell.execute_reply": "2022-10-22T10:09:21.684379Z"
    },
    "papermill": {
     "duration": 0.017258,
     "end_time": "2022-10-22T10:09:21.687262",
     "exception": false,
     "start_time": "2022-10-22T10:09:21.670004",
     "status": "completed"
    },
    "tags": []
   },
   "outputs": [],
   "source": [
    "# This function adds an extra column having the path of the images\n",
    "def append_path(df):\n",
    "    target_str = []\n",
    "    for i in range(len(df)):\n",
    "        target_str.append(str(df['id'][i]))\n",
    "    for i in range(len(df)):\n",
    "        target_str[i] = target_str[i].replace('.0', '.tif') \n",
    "        target_str[i] = '/kaggle/input/concetto22/concetto_CDT/concetto_CDT/'+target_str[i]\n",
    "    df['path'] = target_str\n",
    "    return df"
   ]
  },
  {
   "cell_type": "code",
   "execution_count": 8,
   "id": "7c60d6e9",
   "metadata": {
    "execution": {
     "iopub.execute_input": "2022-10-22T10:09:21.706520Z",
     "iopub.status.busy": "2022-10-22T10:09:21.706187Z",
     "iopub.status.idle": "2022-10-22T10:09:21.735906Z",
     "shell.execute_reply": "2022-10-22T10:09:21.734885Z"
    },
    "papermill": {
     "duration": 0.041681,
     "end_time": "2022-10-22T10:09:21.737940",
     "exception": false,
     "start_time": "2022-10-22T10:09:21.696259",
     "status": "completed"
    },
    "tags": []
   },
   "outputs": [
    {
     "data": {
      "text/html": [
       "<div>\n",
       "<style scoped>\n",
       "    .dataframe tbody tr th:only-of-type {\n",
       "        vertical-align: middle;\n",
       "    }\n",
       "\n",
       "    .dataframe tbody tr th {\n",
       "        vertical-align: top;\n",
       "    }\n",
       "\n",
       "    .dataframe thead th {\n",
       "        text-align: right;\n",
       "    }\n",
       "</style>\n",
       "<table border=\"1\" class=\"dataframe\">\n",
       "  <thead>\n",
       "    <tr style=\"text-align: right;\">\n",
       "      <th></th>\n",
       "      <th>id</th>\n",
       "      <th>tar</th>\n",
       "      <th>path</th>\n",
       "    </tr>\n",
       "  </thead>\n",
       "  <tbody>\n",
       "    <tr>\n",
       "      <th>0</th>\n",
       "      <td>20002859.0</td>\n",
       "      <td>5.0</td>\n",
       "      <td>/kaggle/input/concetto22/concetto_CDT/concetto...</td>\n",
       "    </tr>\n",
       "    <tr>\n",
       "      <th>1</th>\n",
       "      <td>10011157.0</td>\n",
       "      <td>5.0</td>\n",
       "      <td>/kaggle/input/concetto22/concetto_CDT/concetto...</td>\n",
       "    </tr>\n",
       "    <tr>\n",
       "      <th>2</th>\n",
       "      <td>10011996.0</td>\n",
       "      <td>5.0</td>\n",
       "      <td>/kaggle/input/concetto22/concetto_CDT/concetto...</td>\n",
       "    </tr>\n",
       "    <tr>\n",
       "      <th>3</th>\n",
       "      <td>10000364.0</td>\n",
       "      <td>5.0</td>\n",
       "      <td>/kaggle/input/concetto22/concetto_CDT/concetto...</td>\n",
       "    </tr>\n",
       "    <tr>\n",
       "      <th>4</th>\n",
       "      <td>20004294.0</td>\n",
       "      <td>3.0</td>\n",
       "      <td>/kaggle/input/concetto22/concetto_CDT/concetto...</td>\n",
       "    </tr>\n",
       "  </tbody>\n",
       "</table>\n",
       "</div>"
      ],
      "text/plain": [
       "           id  tar                                               path\n",
       "0  20002859.0  5.0  /kaggle/input/concetto22/concetto_CDT/concetto...\n",
       "1  10011157.0  5.0  /kaggle/input/concetto22/concetto_CDT/concetto...\n",
       "2  10011996.0  5.0  /kaggle/input/concetto22/concetto_CDT/concetto...\n",
       "3  10000364.0  5.0  /kaggle/input/concetto22/concetto_CDT/concetto...\n",
       "4  20004294.0  3.0  /kaggle/input/concetto22/concetto_CDT/concetto..."
      ]
     },
     "execution_count": 8,
     "metadata": {},
     "output_type": "execute_result"
    }
   ],
   "source": [
    "train = append_path(train)\n",
    "train.head()"
   ]
  },
  {
   "cell_type": "code",
   "execution_count": 9,
   "id": "994eed56",
   "metadata": {
    "execution": {
     "iopub.execute_input": "2022-10-22T10:09:21.758304Z",
     "iopub.status.busy": "2022-10-22T10:09:21.757330Z",
     "iopub.status.idle": "2022-10-22T10:09:21.772092Z",
     "shell.execute_reply": "2022-10-22T10:09:21.771098Z"
    },
    "papermill": {
     "duration": 0.026952,
     "end_time": "2022-10-22T10:09:21.774272",
     "exception": false,
     "start_time": "2022-10-22T10:09:21.747320",
     "status": "completed"
    },
    "tags": []
   },
   "outputs": [
    {
     "data": {
      "text/html": [
       "<div>\n",
       "<style scoped>\n",
       "    .dataframe tbody tr th:only-of-type {\n",
       "        vertical-align: middle;\n",
       "    }\n",
       "\n",
       "    .dataframe tbody tr th {\n",
       "        vertical-align: top;\n",
       "    }\n",
       "\n",
       "    .dataframe thead th {\n",
       "        text-align: right;\n",
       "    }\n",
       "</style>\n",
       "<table border=\"1\" class=\"dataframe\">\n",
       "  <thead>\n",
       "    <tr style=\"text-align: right;\">\n",
       "      <th></th>\n",
       "      <th>id</th>\n",
       "      <th>path</th>\n",
       "    </tr>\n",
       "  </thead>\n",
       "  <tbody>\n",
       "    <tr>\n",
       "      <th>0</th>\n",
       "      <td>10002998.0</td>\n",
       "      <td>/kaggle/input/concetto22/concetto_CDT/concetto...</td>\n",
       "    </tr>\n",
       "    <tr>\n",
       "      <th>1</th>\n",
       "      <td>10003172.0</td>\n",
       "      <td>/kaggle/input/concetto22/concetto_CDT/concetto...</td>\n",
       "    </tr>\n",
       "    <tr>\n",
       "      <th>2</th>\n",
       "      <td>20004712.0</td>\n",
       "      <td>/kaggle/input/concetto22/concetto_CDT/concetto...</td>\n",
       "    </tr>\n",
       "    <tr>\n",
       "      <th>3</th>\n",
       "      <td>20004205.0</td>\n",
       "      <td>/kaggle/input/concetto22/concetto_CDT/concetto...</td>\n",
       "    </tr>\n",
       "    <tr>\n",
       "      <th>4</th>\n",
       "      <td>20000346.0</td>\n",
       "      <td>/kaggle/input/concetto22/concetto_CDT/concetto...</td>\n",
       "    </tr>\n",
       "  </tbody>\n",
       "</table>\n",
       "</div>"
      ],
      "text/plain": [
       "           id                                               path\n",
       "0  10002998.0  /kaggle/input/concetto22/concetto_CDT/concetto...\n",
       "1  10003172.0  /kaggle/input/concetto22/concetto_CDT/concetto...\n",
       "2  20004712.0  /kaggle/input/concetto22/concetto_CDT/concetto...\n",
       "3  20004205.0  /kaggle/input/concetto22/concetto_CDT/concetto...\n",
       "4  20000346.0  /kaggle/input/concetto22/concetto_CDT/concetto..."
      ]
     },
     "execution_count": 9,
     "metadata": {},
     "output_type": "execute_result"
    }
   ],
   "source": [
    "test = append_path(test)\n",
    "test.head()"
   ]
  },
  {
   "cell_type": "markdown",
   "id": "bdff8086",
   "metadata": {
    "papermill": {
     "duration": 0.008902,
     "end_time": "2022-10-22T10:09:21.792845",
     "exception": false,
     "start_time": "2022-10-22T10:09:21.783943",
     "status": "completed"
    },
    "tags": []
   },
   "source": [
    "#### Data visualization"
   ]
  },
  {
   "cell_type": "code",
   "execution_count": 10,
   "id": "efda867b",
   "metadata": {
    "execution": {
     "iopub.execute_input": "2022-10-22T10:09:21.812616Z",
     "iopub.status.busy": "2022-10-22T10:09:21.811837Z",
     "iopub.status.idle": "2022-10-22T10:09:23.344219Z",
     "shell.execute_reply": "2022-10-22T10:09:23.343269Z"
    },
    "papermill": {
     "duration": 1.544585,
     "end_time": "2022-10-22T10:09:23.346503",
     "exception": false,
     "start_time": "2022-10-22T10:09:21.801918",
     "status": "completed"
    },
    "tags": []
   },
   "outputs": [
    {
     "data": {
      "text/plain": [
       "<matplotlib.image.AxesImage at 0x7f6eef5d4510>"
      ]
     },
     "execution_count": 10,
     "metadata": {},
     "output_type": "execute_result"
    },
    {
     "data": {
      "image/png": "[encoded data removed]",
      "text/plain": [
       "<Figure size 432x288 with 1 Axes>"
      ]
     },
     "metadata": {
      "needs_background": "light"
     },
     "output_type": "display_data"
    }
   ],
   "source": [
    "plt.imshow(cv2.imread(train['path'][0]))"
   ]
  },
  {
   "cell_type": "markdown",
   "id": "31b40ac6",
   "metadata": {
    "papermill": {
     "duration": 0.009608,
     "end_time": "2022-10-22T10:09:23.366360",
     "exception": false,
     "start_time": "2022-10-22T10:09:23.356752",
     "status": "completed"
    },
    "tags": []
   },
   "source": [
    "#### Splitting the train data into train and val set"
   ]
  },
  {
   "cell_type": "code",
   "execution_count": 11,
   "id": "1e7ee58f",
   "metadata": {
    "execution": {
     "iopub.execute_input": "2022-10-22T10:09:23.388659Z",
     "iopub.status.busy": "2022-10-22T10:09:23.388304Z",
     "iopub.status.idle": "2022-10-22T10:09:23.402988Z",
     "shell.execute_reply": "2022-10-22T10:09:23.402068Z"
    },
    "papermill": {
     "duration": 0.028278,
     "end_time": "2022-10-22T10:09:23.405001",
     "exception": false,
     "start_time": "2022-10-22T10:09:23.376723",
     "status": "completed"
    },
    "tags": []
   },
   "outputs": [],
   "source": [
    "X = train.drop(['tar'], axis=1)\n",
    "y = train['tar']\n",
    "x_train, x_val, y_train, y_val = train_test_split(X, y, test_size=0.1, random_state=42, stratify = y)"
   ]
  },
  {
   "cell_type": "code",
   "execution_count": 12,
   "id": "e81c88e2",
   "metadata": {
    "execution": {
     "iopub.execute_input": "2022-10-22T10:09:23.426554Z",
     "iopub.status.busy": "2022-10-22T10:09:23.425764Z",
     "iopub.status.idle": "2022-10-22T10:09:23.442281Z",
     "shell.execute_reply": "2022-10-22T10:09:23.441195Z"
    },
    "papermill": {
     "duration": 0.028942,
     "end_time": "2022-10-22T10:09:23.444386",
     "exception": false,
     "start_time": "2022-10-22T10:09:23.415444",
     "status": "completed"
    },
    "tags": []
   },
   "outputs": [],
   "source": [
    "train_data = pd.merge(x_train, y_train, right_index=True, left_index=True)\n",
    "val_data = pd.merge(x_val, y_val, right_index=True, left_index=True)"
   ]
  },
  {
   "cell_type": "code",
   "execution_count": 13,
   "id": "9ef3d4f6",
   "metadata": {
    "execution": {
     "iopub.execute_input": "2022-10-22T10:09:23.465217Z",
     "iopub.status.busy": "2022-10-22T10:09:23.464925Z",
     "iopub.status.idle": "2022-10-22T10:09:23.469679Z",
     "shell.execute_reply": "2022-10-22T10:09:23.468740Z"
    },
    "papermill": {
     "duration": 0.017211,
     "end_time": "2022-10-22T10:09:23.471785",
     "exception": false,
     "start_time": "2022-10-22T10:09:23.454574",
     "status": "completed"
    },
    "tags": []
   },
   "outputs": [],
   "source": [
    "#defining a configuration\n",
    "\n",
    "class CFG:\n",
    "    model_name = 'resnet34'\n",
    "    target_size = 6\n",
    "    size = 264\n",
    "    batch_size = 16\n",
    "    epochs = 5\n",
    "    num_workers = 2\n",
    "    lr = 1e-3\n",
    "    weight_decay = 1e-2\n",
    "    train = True\n",
    "    target_col = 'tar'"
   ]
  },
  {
   "cell_type": "markdown",
   "id": "f3c0e283",
   "metadata": {
    "papermill": {
     "duration": 0.009341,
     "end_time": "2022-10-22T10:09:23.490610",
     "exception": false,
     "start_time": "2022-10-22T10:09:23.481269",
     "status": "completed"
    },
    "tags": []
   },
   "source": [
    "#### Dataset creation \n",
    "Creating a custom dataset for training and test data which takes path of images, transforms it and converts the image to tensors for further processing."
   ]
  },
  {
   "cell_type": "code",
   "execution_count": 14,
   "id": "999fd651",
   "metadata": {
    "execution": {
     "iopub.execute_input": "2022-10-22T10:09:23.511516Z",
     "iopub.status.busy": "2022-10-22T10:09:23.510630Z",
     "iopub.status.idle": "2022-10-22T10:09:23.520510Z",
     "shell.execute_reply": "2022-10-22T10:09:23.519706Z"
    },
    "papermill": {
     "duration": 0.022179,
     "end_time": "2022-10-22T10:09:23.522502",
     "exception": false,
     "start_time": "2022-10-22T10:09:23.500323",
     "status": "completed"
    },
    "tags": []
   },
   "outputs": [],
   "source": [
    "class TrainDataset(Dataset):\n",
    "    def __init__(self, df, transform=None):\n",
    "        self.df = df\n",
    "        self.file_names = df['path'].values\n",
    "        self.labels = df['tar'].values\n",
    "        self.transform = transform\n",
    "        \n",
    "    def __len__(self):\n",
    "        return len(self.df)\n",
    "\n",
    "    def __getitem__(self, idx):\n",
    "        file_name = self.file_names[idx]\n",
    "        file_path = file_name\n",
    "        image = cv2.imread(file_path)\n",
    "        image = cv2.cvtColor(image, cv2.COLOR_BGR2RGB)\n",
    "        if self.transform:\n",
    "            augmented = self.transform(image=image)\n",
    "            image = augmented['image']\n",
    "        label = torch.tensor(self.labels[idx]).long()\n",
    "        return image, label\n",
    "    \n",
    "\n",
    "class TestDataset(Dataset):\n",
    "    def __init__(self, df, transform=None):\n",
    "        self.df = df\n",
    "        self.file_names = df['path'].values\n",
    "        self.transform = transform\n",
    "        \n",
    "    def __len__(self):\n",
    "        return len(self.df)\n",
    "\n",
    "    def __getitem__(self, idx):\n",
    "        file_name = self.file_names[idx]\n",
    "        file_path = file_name\n",
    "        image = cv2.imread(file_path)\n",
    "        image = cv2.cvtColor(image, cv2.COLOR_BGR2RGB)\n",
    "        if self.transform:\n",
    "            augmented = self.transform(image=image)\n",
    "            image = augmented['image']\n",
    "        return image"
   ]
  },
  {
   "cell_type": "markdown",
   "id": "bc9a776f",
   "metadata": {
    "papermill": {
     "duration": 0.009231,
     "end_time": "2022-10-22T10:09:23.544266",
     "exception": false,
     "start_time": "2022-10-22T10:09:23.535035",
     "status": "completed"
    },
    "tags": []
   },
   "source": [
    "# Transformation"
   ]
  },
  {
   "cell_type": "markdown",
   "id": "fe8e6d20",
   "metadata": {
    "papermill": {
     "duration": 0.009227,
     "end_time": "2022-10-22T10:09:23.563084",
     "exception": false,
     "start_time": "2022-10-22T10:09:23.553857",
     "status": "completed"
    },
    "tags": []
   },
   "source": [
    "#### Augmentation\n",
    "Applying some necessary augmentations like resizing the image to the size accepted by model, Normalizing the tensors.\n",
    "Albumentations like RandomResizedCrop and HorizontalFlip are used to augment the dataset.\n",
    "Find more albumentations [here](https://github.com/pytorch/vision/blob/main/torchvision/transforms/transforms.py)"
   ]
  },
  {
   "cell_type": "code",
   "execution_count": 15,
   "id": "7a02601f",
   "metadata": {
    "execution": {
     "iopub.execute_input": "2022-10-22T10:09:23.583944Z",
     "iopub.status.busy": "2022-10-22T10:09:23.583119Z",
     "iopub.status.idle": "2022-10-22T10:09:23.590570Z",
     "shell.execute_reply": "2022-10-22T10:09:23.589708Z"
    },
    "papermill": {
     "duration": 0.02,
     "end_time": "2022-10-22T10:09:23.592720",
     "exception": false,
     "start_time": "2022-10-22T10:09:23.572720",
     "status": "completed"
    },
    "tags": []
   },
   "outputs": [],
   "source": [
    "# Transforms\n",
    "def get_transforms(*, data):\n",
    "    \n",
    "    if data == 'train':\n",
    "        return A.Compose([\n",
    "            A.Resize(CFG.size, CFG.size),\n",
    "            A.RandomResizedCrop(224, 224),\n",
    "            A.HorizontalFlip(p=0.5),\n",
    "            A.augmentations.geometric.rotate.Rotate(limit=30, p=0.5),\n",
    "            A.Normalize(\n",
    "                mean=[0.485, 0.456, 0.406],\n",
    "                std=[0.229, 0.224, 0.225],\n",
    "            ),\n",
    "            ToTensorV2(),\n",
    "        ])\n",
    "\n",
    "    elif data == 'valid':\n",
    "        return A.Compose([\n",
    "            A.Resize(CFG.size, CFG.size),\n",
    "            A.Normalize(\n",
    "                mean=[0.485, 0.456, 0.406],\n",
    "                std=[0.229, 0.224, 0.225],\n",
    "            ),\n",
    "            ToTensorV2(),\n",
    "        ])"
   ]
  },
  {
   "cell_type": "markdown",
   "id": "e3b98b0e",
   "metadata": {
    "papermill": {
     "duration": 0.009437,
     "end_time": "2022-10-22T10:09:23.611681",
     "exception": false,
     "start_time": "2022-10-22T10:09:23.602244",
     "status": "completed"
    },
    "tags": []
   },
   "source": [
    "# Model"
   ]
  },
  {
   "cell_type": "code",
   "execution_count": 16,
   "id": "58f863b7",
   "metadata": {
    "execution": {
     "iopub.execute_input": "2022-10-22T10:09:23.632848Z",
     "iopub.status.busy": "2022-10-22T10:09:23.631873Z",
     "iopub.status.idle": "2022-10-22T10:09:23.638551Z",
     "shell.execute_reply": "2022-10-22T10:09:23.637680Z"
    },
    "papermill": {
     "duration": 0.019263,
     "end_time": "2022-10-22T10:09:23.640489",
     "exception": false,
     "start_time": "2022-10-22T10:09:23.621226",
     "status": "completed"
    },
    "tags": []
   },
   "outputs": [],
   "source": [
    "class CustomNet(nn.Module):\n",
    "    def __init__(self, model_name=CFG.model_name, pretrained=False):\n",
    "        super().__init__()\n",
    "        self.model = timm.create_model(CFG.model_name, pretrained=pretrained)\n",
    "        print(self.model.default_cfg[\"classifier\"])\n",
    "        n_features = self.model.fc.in_features #either fc or classifier , check using above line\n",
    "        self.model.classifier = nn.Linear(n_features, CFG.target_size)\n",
    "\n",
    "    def forward(self, x):\n",
    "        x = self.model(x)\n",
    "        return x\n",
    "    "
   ]
  },
  {
   "cell_type": "code",
   "execution_count": 17,
   "id": "db06a883",
   "metadata": {
    "execution": {
     "iopub.execute_input": "2022-10-22T10:09:23.661630Z",
     "iopub.status.busy": "2022-10-22T10:09:23.660854Z",
     "iopub.status.idle": "2022-10-22T10:09:25.157459Z",
     "shell.execute_reply": "2022-10-22T10:09:25.156432Z"
    },
    "papermill": {
     "duration": 1.511844,
     "end_time": "2022-10-22T10:09:25.162180",
     "exception": false,
     "start_time": "2022-10-22T10:09:23.650336",
     "status": "completed"
    },
    "tags": []
   },
   "outputs": [
    {
     "name": "stderr",
     "output_type": "stream",
     "text": [
      "Downloading: \"https://github.com/rwightman/pytorch-image-models/releases/download/v0.1-weights/resnet34-43635321.pth\" to /root/.cache/torch/hub/checkpoints/resnet34-43635321.pth\n"
     ]
    },
    {
     "name": "stdout",
     "output_type": "stream",
     "text": [
      "fc\n"
     ]
    }
   ],
   "source": [
    "model = CustomNet(model_name=CFG.model_name, pretrained=True)"
   ]
  },
  {
   "cell_type": "markdown",
   "id": "efe8c505",
   "metadata": {
    "papermill": {
     "duration": 0.012912,
     "end_time": "2022-10-22T10:09:25.201412",
     "exception": false,
     "start_time": "2022-10-22T10:09:25.188500",
     "status": "completed"
    },
    "tags": []
   },
   "source": [
    "## Loss Function\n",
    "The loss function used, here [CrossEntropyLoss.](https://pytorch.org/docs/stable/generated/torch.nn.CrossEntropyLoss.html)"
   ]
  },
  {
   "cell_type": "code",
   "execution_count": 18,
   "id": "6dbc5363",
   "metadata": {
    "execution": {
     "iopub.execute_input": "2022-10-22T10:09:25.222571Z",
     "iopub.status.busy": "2022-10-22T10:09:25.221937Z",
     "iopub.status.idle": "2022-10-22T10:09:25.232034Z",
     "shell.execute_reply": "2022-10-22T10:09:25.231014Z"
    },
    "papermill": {
     "duration": 0.023013,
     "end_time": "2022-10-22T10:09:25.234081",
     "exception": false,
     "start_time": "2022-10-22T10:09:25.211068",
     "status": "completed"
    },
    "tags": []
   },
   "outputs": [],
   "source": [
    "def get_criterion():\n",
    "    criterion = nn.CrossEntropyLoss()\n",
    "    return criterion"
   ]
  },
  {
   "cell_type": "code",
   "execution_count": 19,
   "id": "afd8bbf7",
   "metadata": {
    "execution": {
     "iopub.execute_input": "2022-10-22T10:09:25.254993Z",
     "iopub.status.busy": "2022-10-22T10:09:25.254644Z",
     "iopub.status.idle": "2022-10-22T10:09:25.258790Z",
     "shell.execute_reply": "2022-10-22T10:09:25.257660Z"
    },
    "papermill": {
     "duration": 0.017496,
     "end_time": "2022-10-22T10:09:25.261039",
     "exception": false,
     "start_time": "2022-10-22T10:09:25.243543",
     "status": "completed"
    },
    "tags": []
   },
   "outputs": [],
   "source": [
    "def get_score(y_true, y_pred):\n",
    "    return accuracy_score(y_true, y_pred)"
   ]
  },
  {
   "cell_type": "markdown",
   "id": "0826e975",
   "metadata": {
    "papermill": {
     "duration": 0.009899,
     "end_time": "2022-10-22T10:09:25.280654",
     "exception": false,
     "start_time": "2022-10-22T10:09:25.270755",
     "status": "completed"
    },
    "tags": []
   },
   "source": [
    "## Optimizer"
   ]
  },
  {
   "cell_type": "code",
   "execution_count": 20,
   "id": "5ca0db73",
   "metadata": {
    "execution": {
     "iopub.execute_input": "2022-10-22T10:09:25.301812Z",
     "iopub.status.busy": "2022-10-22T10:09:25.301208Z",
     "iopub.status.idle": "2022-10-22T10:09:25.306805Z",
     "shell.execute_reply": "2022-10-22T10:09:25.305900Z"
    },
    "papermill": {
     "duration": 0.018505,
     "end_time": "2022-10-22T10:09:25.308857",
     "exception": false,
     "start_time": "2022-10-22T10:09:25.290352",
     "status": "completed"
    },
    "tags": []
   },
   "outputs": [],
   "source": [
    "def get_optimizer(model):\n",
    "    optimizer = SGD(model.parameters(), lr=CFG.lr, momentum=0.9, weight_decay=CFG.weight_decay)\n",
    "    return optimizer"
   ]
  },
  {
   "cell_type": "markdown",
   "id": "b68fc230",
   "metadata": {
    "papermill": {
     "duration": 0.00969,
     "end_time": "2022-10-22T10:09:25.328735",
     "exception": false,
     "start_time": "2022-10-22T10:09:25.319045",
     "status": "completed"
    },
    "tags": []
   },
   "source": [
    "## Scheduler\n",
    "It is used for adjusting the learning rate(LR decay) between epochs as the training progresses. Read about more schedulers [here](https://pytorch.org/docs/stable/optim.html#)"
   ]
  },
  {
   "cell_type": "code",
   "execution_count": 21,
   "id": "ab268b99",
   "metadata": {
    "execution": {
     "iopub.execute_input": "2022-10-22T10:09:25.350081Z",
     "iopub.status.busy": "2022-10-22T10:09:25.349779Z",
     "iopub.status.idle": "2022-10-22T10:09:25.354617Z",
     "shell.execute_reply": "2022-10-22T10:09:25.353455Z"
    },
    "papermill": {
     "duration": 0.017885,
     "end_time": "2022-10-22T10:09:25.356610",
     "exception": false,
     "start_time": "2022-10-22T10:09:25.338725",
     "status": "completed"
    },
    "tags": []
   },
   "outputs": [],
   "source": [
    "def get_scheduler(optimizer):\n",
    "    scheduler = StepLR(optimizer, step_size=2, gamma=0.1, verbose=True)\n",
    "    return scheduler"
   ]
  },
  {
   "cell_type": "markdown",
   "id": "d4dd90bc",
   "metadata": {
    "papermill": {
     "duration": 0.009842,
     "end_time": "2022-10-22T10:09:25.376423",
     "exception": false,
     "start_time": "2022-10-22T10:09:25.366581",
     "status": "completed"
    },
    "tags": []
   },
   "source": [
    "## Utility Functions"
   ]
  },
  {
   "cell_type": "code",
   "execution_count": 22,
   "id": "99a2d6c7",
   "metadata": {
    "execution": {
     "iopub.execute_input": "2022-10-22T10:09:25.397604Z",
     "iopub.status.busy": "2022-10-22T10:09:25.397305Z",
     "iopub.status.idle": "2022-10-22T10:09:25.410243Z",
     "shell.execute_reply": "2022-10-22T10:09:25.409280Z"
    },
    "papermill": {
     "duration": 0.026201,
     "end_time": "2022-10-22T10:09:25.412563",
     "exception": false,
     "start_time": "2022-10-22T10:09:25.386362",
     "status": "completed"
    },
    "tags": []
   },
   "outputs": [],
   "source": [
    "class AverageMeter(object):\n",
    "    \"\"\"Computes and stores the average and current value\"\"\"\n",
    "    def __init__(self):\n",
    "        self.reset()\n",
    "\n",
    "    def reset(self):\n",
    "        self.val = 0\n",
    "        self.avg = 0\n",
    "        self.sum = 0\n",
    "        self.count = 0\n",
    "\n",
    "    def update(self, val, n=1):\n",
    "        self.val = val\n",
    "        self.sum += val * n\n",
    "        self.count += n\n",
    "        self.avg = self.sum / self.count\n",
    "        \n",
    "def train_fn(train_loader, model, criterion, optimizer, epoch, scheduler, device):\n",
    "    model.train() # switch to training mode\n",
    "    running_loss = 0\n",
    "    count = 0\n",
    "    for (images, labels) in tqdm(train_loader):\n",
    "        images = images.to(device)\n",
    "        labels = labels.to(device)\n",
    "        y_preds = model(images)\n",
    "        \n",
    "        loss = criterion(y_preds, labels)\n",
    "        running_loss += loss.item()*labels.shape[0]\n",
    "        count += 1\n",
    "        \n",
    "        loss.backward()\n",
    "        optimizer.step()\n",
    "        optimizer.zero_grad()\n",
    "        \n",
    "    return running_loss/count\n",
    "\n",
    "\n",
    "def valid_fn(valid_loader, model, criterion, device):\n",
    "    model.eval() # switch to evaluation mode\n",
    "    preds = []\n",
    "    running_loss = 0\n",
    "    count = 0\n",
    "    \n",
    "    for (images, labels) in tqdm(valid_loader):\n",
    "        images = images.to(device)\n",
    "        labels = labels.to(device)\n",
    "        # compute loss\n",
    "        with torch.no_grad():\n",
    "            y_preds = model(images)\n",
    "        loss = criterion(y_preds, labels)\n",
    "        running_loss += loss.item()*labels.shape[0]\n",
    "        count += 1\n",
    "        # record accuracy\n",
    "        preds.append(y_preds.softmax(1).to('cpu').numpy())\n",
    "    predictions = np.concatenate(preds)\n",
    "    \n",
    "    return (running_loss/count), predictions\n",
    "\n",
    "\n",
    "def test_fun(test_loader, model, device):\n",
    "    model.eval()\n",
    "    preds = []\n",
    "    test_df = pd.DataFrame()\n",
    "    for step, (images) in enumerate(test_loader):\n",
    "        images = images.to(device)\n",
    "        with torch.no_grad():\n",
    "            y_preds = model(images)\n",
    "        preds.append(y_preds.softmax(1).to('cpu').numpy())\n",
    "    predictions = np.concatenate(preds)\n",
    "    pred = predictions.argmax(1)\n",
    "    return pred"
   ]
  },
  {
   "cell_type": "markdown",
   "id": "86c9f30e",
   "metadata": {
    "papermill": {
     "duration": 0.009464,
     "end_time": "2022-10-22T10:09:25.431435",
     "exception": false,
     "start_time": "2022-10-22T10:09:25.421971",
     "status": "completed"
    },
    "tags": []
   },
   "source": [
    "# Train loop"
   ]
  },
  {
   "cell_type": "code",
   "execution_count": 23,
   "id": "6a88c910",
   "metadata": {
    "execution": {
     "iopub.execute_input": "2022-10-22T10:09:25.453727Z",
     "iopub.status.busy": "2022-10-22T10:09:25.452944Z",
     "iopub.status.idle": "2022-10-22T10:09:25.463302Z",
     "shell.execute_reply": "2022-10-22T10:09:25.462496Z"
    },
    "papermill": {
     "duration": 0.02417,
     "end_time": "2022-10-22T10:09:25.465250",
     "exception": false,
     "start_time": "2022-10-22T10:09:25.441080",
     "status": "completed"
    },
    "tags": []
   },
   "outputs": [],
   "source": [
    "# Train loop\n",
    "def train_loop(train_data, valid_data):\n",
    "    \n",
    "    # create dataset\n",
    "    train_dataset = TrainDataset(train_data, transform=get_transforms(data='train'))\n",
    "    valid_dataset = TrainDataset(valid_data, transform=get_transforms(data='valid'))\n",
    "\n",
    "    # create dataloader\n",
    "    train_loader = DataLoader(train_dataset, batch_size=CFG.batch_size, shuffle=True, \n",
    "                              num_workers=CFG.num_workers, pin_memory=True, drop_last=True)\n",
    "    valid_loader = DataLoader(valid_dataset, batch_size=CFG.batch_size, shuffle=False, \n",
    "                              num_workers=CFG.num_workers, pin_memory=True, drop_last=False)\n",
    "\n",
    "    # create model and transfer to device\n",
    "    model = CustomNet(CFG.model_name, pretrained=True)\n",
    "    model.to(device)\n",
    "    \n",
    "    # select optimizer, scheduler and criterion\n",
    "    optimizer = get_optimizer(model)\n",
    "    scheduler = get_scheduler(optimizer)\n",
    "    criterion = get_criterion()\n",
    "\n",
    "    best_score = -1.0\n",
    "    best_loss = np.inf\n",
    "    \n",
    "    # start training\n",
    "    for epoch in range(CFG.epochs):\n",
    "        # train\n",
    "        avg_loss = train_fn(train_loader, model, criterion, optimizer, epoch, scheduler, device)\n",
    "        # validation\n",
    "        avg_val_loss, preds = valid_fn(valid_loader, model, criterion, device)\n",
    "        \n",
    "#         valid_labels = valid_folds[CFG.target_col].values\n",
    "        valid_labels = valid_data['tar']\n",
    "        \n",
    "        scheduler.step()\n",
    "\n",
    "        # scoring\n",
    "        score = get_score(valid_labels, preds.argmax(1))\n",
    "        print(\"score: \", score)\n",
    "\n",
    "        # code for saving the best model\n",
    "        if score > best_score:\n",
    "            print('Score Improved')\n",
    "            best_score = score\n",
    "            print(f'Epoch {epoch+1} - Save Best Score: {best_score:.4f}')\n",
    "            torch.save({'model': model.state_dict(), \n",
    "                        'preds': preds,\n",
    "                        'optimizer': optimizer.state_dict(),\n",
    "                        'scheduler': scheduler.state_dict()},\n",
    "                        './'+f'{CFG.model_name}_best.pth')\n",
    "    \n",
    "    check_point = torch.load('./'+f'{CFG.model_name}_best.pth')\n",
    "    valid_data['preds'] = check_point['preds'].argmax(1)\n",
    "\n",
    "    return valid_data"
   ]
  },
  {
   "cell_type": "code",
   "execution_count": 24,
   "id": "062887aa",
   "metadata": {
    "execution": {
     "iopub.execute_input": "2022-10-22T10:09:25.486603Z",
     "iopub.status.busy": "2022-10-22T10:09:25.485820Z",
     "iopub.status.idle": "2022-10-22T10:09:25.491525Z",
     "shell.execute_reply": "2022-10-22T10:09:25.490607Z"
    },
    "papermill": {
     "duration": 0.018554,
     "end_time": "2022-10-22T10:09:25.493603",
     "exception": false,
     "start_time": "2022-10-22T10:09:25.475049",
     "status": "completed"
    },
    "tags": []
   },
   "outputs": [],
   "source": [
    "# main\n",
    "def main():\n",
    "    def get_result(result_df):\n",
    "        preds = result_df['preds'].values\n",
    "        labels = result_df[CFG.target_col].values\n",
    "        score = get_score(labels, preds)\n",
    "    \n",
    "    if CFG.train: \n",
    "        # train\n",
    "        df = train_loop(train_data, val_data)\n",
    "        get_result(df)"
   ]
  },
  {
   "cell_type": "code",
   "execution_count": 25,
   "id": "db1b263f",
   "metadata": {
    "execution": {
     "iopub.execute_input": "2022-10-22T10:09:25.514693Z",
     "iopub.status.busy": "2022-10-22T10:09:25.513857Z",
     "iopub.status.idle": "2022-10-22T10:18:11.036527Z",
     "shell.execute_reply": "2022-10-22T10:18:11.034751Z"
    },
    "papermill": {
     "duration": 525.536207,
     "end_time": "2022-10-22T10:18:11.039312",
     "exception": false,
     "start_time": "2022-10-22T10:09:25.503105",
     "status": "completed"
    },
    "tags": []
   },
   "outputs": [
    {
     "name": "stdout",
     "output_type": "stream",
     "text": [
      "fc\n",
      "Adjusting learning rate of group 0 to 1.0000e-03.\n"
     ]
    },
    {
     "name": "stderr",
     "output_type": "stream",
     "text": [
      "100%|██████████| 142/142 [01:39<00:00,  1.42it/s]\n",
      "100%|██████████| 16/16 [00:10<00:00,  1.49it/s]\n"
     ]
    },
    {
     "name": "stdout",
     "output_type": "stream",
     "text": [
      "Adjusting learning rate of group 0 to 1.0000e-03.\n",
      "score:  0.43700787401574803\n",
      "Score Improved\n",
      "Epoch 1 - Save Best Score: 0.4370\n"
     ]
    },
    {
     "name": "stderr",
     "output_type": "stream",
     "text": [
      "100%|██████████| 142/142 [01:31<00:00,  1.55it/s]\n",
      "100%|██████████| 16/16 [00:10<00:00,  1.51it/s]\n"
     ]
    },
    {
     "name": "stdout",
     "output_type": "stream",
     "text": [
      "Adjusting learning rate of group 0 to 1.0000e-04.\n",
      "score:  0.4881889763779528\n",
      "Score Improved\n",
      "Epoch 2 - Save Best Score: 0.4882\n"
     ]
    },
    {
     "name": "stderr",
     "output_type": "stream",
     "text": [
      "100%|██████████| 142/142 [01:31<00:00,  1.55it/s]\n",
      "100%|██████████| 16/16 [00:10<00:00,  1.50it/s]\n"
     ]
    },
    {
     "name": "stdout",
     "output_type": "stream",
     "text": [
      "Adjusting learning rate of group 0 to 1.0000e-04.\n",
      "score:  0.5433070866141733\n",
      "Score Improved\n",
      "Epoch 3 - Save Best Score: 0.5433\n"
     ]
    },
    {
     "name": "stderr",
     "output_type": "stream",
     "text": [
      "100%|██████████| 142/142 [01:31<00:00,  1.55it/s]\n",
      "100%|██████████| 16/16 [00:10<00:00,  1.46it/s]\n"
     ]
    },
    {
     "name": "stdout",
     "output_type": "stream",
     "text": [
      "Adjusting learning rate of group 0 to 1.0000e-05.\n",
      "score:  0.5787401574803149\n",
      "Score Improved\n",
      "Epoch 4 - Save Best Score: 0.5787\n"
     ]
    },
    {
     "name": "stderr",
     "output_type": "stream",
     "text": [
      "100%|██████████| 142/142 [01:31<00:00,  1.55it/s]\n",
      "100%|██████████| 16/16 [00:10<00:00,  1.50it/s]\n"
     ]
    },
    {
     "name": "stdout",
     "output_type": "stream",
     "text": [
      "Adjusting learning rate of group 0 to 1.0000e-05.\n",
      "score:  0.5708661417322834\n"
     ]
    }
   ],
   "source": [
    "if __name__ == '__main__':\n",
    "    main()"
   ]
  },
  {
   "cell_type": "code",
   "execution_count": 26,
   "id": "8243b4c2",
   "metadata": {
    "execution": {
     "iopub.execute_input": "2022-10-22T10:18:11.126586Z",
     "iopub.status.busy": "2022-10-22T10:18:11.125537Z",
     "iopub.status.idle": "2022-10-22T10:18:39.428090Z",
     "shell.execute_reply": "2022-10-22T10:18:39.426619Z"
    },
    "papermill": {
     "duration": 28.348943,
     "end_time": "2022-10-22T10:18:39.430878",
     "exception": false,
     "start_time": "2022-10-22T10:18:11.081935",
     "status": "completed"
    },
    "tags": []
   },
   "outputs": [
    {
     "name": "stdout",
     "output_type": "stream",
     "text": [
      "fc\n"
     ]
    }
   ],
   "source": [
    "test_dataset = TestDataset(test, transform=get_transforms(data='valid'))\n",
    "test_loader = DataLoader(test_dataset, batch_size=1, shuffle=False, \n",
    "                          num_workers=CFG.num_workers, pin_memory=True, drop_last=False)\n",
    "check_point = torch.load('./'+f'{CFG.model_name}_best.pth')\n",
    "model = CustomNet(CFG.model_name, pretrained=True)\n",
    "model.to(device)\n",
    "model.load_state_dict(check_point['model'])\n",
    "pred = test_fun(test_loader, model, device)"
   ]
  },
  {
   "cell_type": "code",
   "execution_count": 27,
   "id": "b9e49cbc",
   "metadata": {
    "execution": {
     "iopub.execute_input": "2022-10-22T10:18:39.518354Z",
     "iopub.status.busy": "2022-10-22T10:18:39.517984Z",
     "iopub.status.idle": "2022-10-22T10:18:39.524412Z",
     "shell.execute_reply": "2022-10-22T10:18:39.523360Z"
    },
    "papermill": {
     "duration": 0.05252,
     "end_time": "2022-10-22T10:18:39.526822",
     "exception": false,
     "start_time": "2022-10-22T10:18:39.474302",
     "status": "completed"
    },
    "tags": []
   },
   "outputs": [],
   "source": [
    "test['tar'] = pred"
   ]
  },
  {
   "cell_type": "code",
   "execution_count": 28,
   "id": "f981a125",
   "metadata": {
    "execution": {
     "iopub.execute_input": "2022-10-22T10:18:39.612021Z",
     "iopub.status.busy": "2022-10-22T10:18:39.611715Z",
     "iopub.status.idle": "2022-10-22T10:18:39.622847Z",
     "shell.execute_reply": "2022-10-22T10:18:39.622006Z"
    },
    "papermill": {
     "duration": 0.05595,
     "end_time": "2022-10-22T10:18:39.624983",
     "exception": false,
     "start_time": "2022-10-22T10:18:39.569033",
     "status": "completed"
    },
    "tags": []
   },
   "outputs": [],
   "source": [
    "submission_df = test.drop(['path'], axis=1)\n",
    "submission_df.to_csv(\"submission.csv\", index=False)"
   ]
  },
  {
   "cell_type": "code",
   "execution_count": 29,
   "id": "f44d0431",
   "metadata": {
    "execution": {
     "iopub.execute_input": "2022-10-22T10:18:39.712532Z",
     "iopub.status.busy": "2022-10-22T10:18:39.710700Z",
     "iopub.status.idle": "2022-10-22T10:18:39.726711Z",
     "shell.execute_reply": "2022-10-22T10:18:39.725855Z"
    },
    "papermill": {
     "duration": 0.061249,
     "end_time": "2022-10-22T10:18:39.728678",
     "exception": false,
     "start_time": "2022-10-22T10:18:39.667429",
     "status": "completed"
    },
    "tags": []
   },
   "outputs": [
    {
     "data": {
      "text/html": [
       "<div>\n",
       "<style scoped>\n",
       "    .dataframe tbody tr th:only-of-type {\n",
       "        vertical-align: middle;\n",
       "    }\n",
       "\n",
       "    .dataframe tbody tr th {\n",
       "        vertical-align: top;\n",
       "    }\n",
       "\n",
       "    .dataframe thead th {\n",
       "        text-align: right;\n",
       "    }\n",
       "</style>\n",
       "<table border=\"1\" class=\"dataframe\">\n",
       "  <thead>\n",
       "    <tr style=\"text-align: right;\">\n",
       "      <th></th>\n",
       "      <th>id</th>\n",
       "      <th>tar</th>\n",
       "    </tr>\n",
       "  </thead>\n",
       "  <tbody>\n",
       "    <tr>\n",
       "      <th>0</th>\n",
       "      <td>10002998.0</td>\n",
       "      <td>4</td>\n",
       "    </tr>\n",
       "    <tr>\n",
       "      <th>1</th>\n",
       "      <td>10003172.0</td>\n",
       "      <td>4</td>\n",
       "    </tr>\n",
       "    <tr>\n",
       "      <th>2</th>\n",
       "      <td>20004712.0</td>\n",
       "      <td>4</td>\n",
       "    </tr>\n",
       "    <tr>\n",
       "      <th>3</th>\n",
       "      <td>20004205.0</td>\n",
       "      <td>4</td>\n",
       "    </tr>\n",
       "    <tr>\n",
       "      <th>4</th>\n",
       "      <td>20000346.0</td>\n",
       "      <td>3</td>\n",
       "    </tr>\n",
       "    <tr>\n",
       "      <th>...</th>\n",
       "      <td>...</td>\n",
       "      <td>...</td>\n",
       "    </tr>\n",
       "    <tr>\n",
       "      <th>553</th>\n",
       "      <td>20001798.0</td>\n",
       "      <td>5</td>\n",
       "    </tr>\n",
       "    <tr>\n",
       "      <th>554</th>\n",
       "      <td>10006153.0</td>\n",
       "      <td>5</td>\n",
       "    </tr>\n",
       "    <tr>\n",
       "      <th>555</th>\n",
       "      <td>10010660.0</td>\n",
       "      <td>4</td>\n",
       "    </tr>\n",
       "    <tr>\n",
       "      <th>556</th>\n",
       "      <td>10008746.0</td>\n",
       "      <td>4</td>\n",
       "    </tr>\n",
       "    <tr>\n",
       "      <th>557</th>\n",
       "      <td>20004939.0</td>\n",
       "      <td>4</td>\n",
       "    </tr>\n",
       "  </tbody>\n",
       "</table>\n",
       "<p>558 rows × 2 columns</p>\n",
       "</div>"
      ],
      "text/plain": [
       "             id  tar\n",
       "0    10002998.0    4\n",
       "1    10003172.0    4\n",
       "2    20004712.0    4\n",
       "3    20004205.0    4\n",
       "4    20000346.0    3\n",
       "..          ...  ...\n",
       "553  20001798.0    5\n",
       "554  10006153.0    5\n",
       "555  10010660.0    4\n",
       "556  10008746.0    4\n",
       "557  20004939.0    4\n",
       "\n",
       "[558 rows x 2 columns]"
      ]
     },
     "execution_count": 29,
     "metadata": {},
     "output_type": "execute_result"
    }
   ],
   "source": [
    "submission_df"
   ]
  },
  {
   "cell_type": "markdown",
   "id": "cd4cba01",
   "metadata": {
    "papermill": {
     "duration": 0.041679,
     "end_time": "2022-10-22T10:18:39.813436",
     "exception": false,
     "start_time": "2022-10-22T10:18:39.771757",
     "status": "completed"
    },
    "tags": []
   },
   "source": [
    "### Now click on the \"Submit\" button to submit the notebook\n",
    "### NOTE: We expect everyone to generate such notebooks for your final submission. Only the teams with notebook submitted against their final submission will be considered for prize money!"
   ]
  },
  {
   "cell_type": "markdown",
   "id": "63c3ce7d",
   "metadata": {
    "papermill": {
     "duration": 0.042072,
     "end_time": "2022-10-22T10:18:39.897191",
     "exception": false,
     "start_time": "2022-10-22T10:18:39.855119",
     "status": "completed"
    },
    "tags": []
   },
   "source": [
    "### Things to try next:\n",
    "* Try different architectures, optimizers, loss functions etc.\n",
    "* Think of ways of tackling data imbalance problem.\n",
    "* Try different image size\n",
    "* Try Ensembling methods.\n",
    "* Apply semi supervised learning."
   ]
  },
  {
   "cell_type": "markdown",
   "id": "6a0d7233",
   "metadata": {
    "papermill": {
     "duration": 0.041744,
     "end_time": "2022-10-22T10:18:39.980532",
     "exception": false,
     "start_time": "2022-10-22T10:18:39.938788",
     "status": "completed"
    },
    "tags": []
   },
   "source": [
    "### PS: This competition is hosted to promote learning. So we request you to publish your baseline models via Kaggle kernels and discuss on the discussion tab to help others learn. Thanks!"
   ]
  }
 ],
 "metadata": {
  "kernelspec": {
   "display_name": "Python 3",
   "language": "python",
   "name": "python3"
  },
  "language_info": {
   "codemirror_mode": {
    "name": "ipython",
    "version": 3
   },
   "file_extension": ".py",
   "mimetype": "text/x-python",
   "name": "python",
   "nbconvert_exporter": "python",
   "pygments_lexer": "ipython3",
   "version": "3.7.12"
  },
  "papermill": {
   "default_parameters": {},
   "duration": 585.764526,
   "end_time": "2022-10-22T10:18:42.450724",
   "environment_variables": {},
   "exception": null,
   "input_path": "__notebook__.ipynb",
   "output_path": "__notebook__.ipynb",
   "parameters": {},
   "start_time": "2022-10-22T10:08:56.686198",
   "version": "2.3.4"
  }
 },
 "nbformat": 4,
 "nbformat_minor": 5
}
