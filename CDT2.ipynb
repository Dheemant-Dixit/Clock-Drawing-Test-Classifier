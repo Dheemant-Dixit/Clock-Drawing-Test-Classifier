{
 "cells": [
  {
   "cell_type": "markdown",
   "id": "b53416a7",
   "metadata": {
    "execution": {
     "iopub.execute_input": "2022-10-19T14:36:23.498434Z",
     "iopub.status.busy": "2022-10-19T14:36:23.497413Z",
     "iopub.status.idle": "2022-10-19T14:36:23.565483Z",
     "shell.execute_reply": "2022-10-19T14:36:23.564509Z",
     "shell.execute_reply.started": "2022-10-19T14:36:23.49839Z"
    },
    "papermill": {
     "duration": 0.009244,
     "end_time": "2022-10-23T05:27:39.204121",
     "exception": false,
     "start_time": "2022-10-23T05:27:39.194877",
     "status": "completed"
    },
    "tags": []
   },
   "source": [
    "#### Importing Libraries"
   ]
  },
  {
   "cell_type": "code",
   "execution_count": 1,
   "id": "9d08301f",
   "metadata": {
    "_kg_hide-output": true,
    "execution": {
     "iopub.execute_input": "2022-10-23T05:27:39.223119Z",
     "iopub.status.busy": "2022-10-23T05:27:39.222297Z",
     "iopub.status.idle": "2022-10-23T05:27:53.061768Z",
     "shell.execute_reply": "2022-10-23T05:27:53.060538Z"
    },
    "papermill": {
     "duration": 13.85173,
     "end_time": "2022-10-23T05:27:53.064383",
     "exception": false,
     "start_time": "2022-10-23T05:27:39.212653",
     "status": "completed"
    },
    "tags": []
   },
   "outputs": [
    {
     "name": "stdout",
     "output_type": "stream",
     "text": [
      "Collecting timm\r\n",
      "  Downloading timm-0.6.11-py3-none-any.whl (548 kB)\r\n",
      "\u001b[2K     \u001b[90m━━━━━━━━━━━━━━━━━━━━━━━━━━━━━━━━━━━━━\u001b[0m \u001b[32m548.7/548.7 kB\u001b[0m \u001b[31m552.4 kB/s\u001b[0m eta \u001b[36m0:00:00\u001b[0m\r\n",
      "\u001b[?25hRequirement already satisfied: pyyaml in /opt/conda/lib/python3.7/site-packages (from timm) (6.0)\r\n",
      "Requirement already satisfied: torchvision in /opt/conda/lib/python3.7/site-packages (from timm) (0.12.0)\r\n",
      "Requirement already satisfied: torch>=1.7 in /opt/conda/lib/python3.7/site-packages (from timm) (1.11.0)\r\n",
      "Requirement already satisfied: huggingface-hub in /opt/conda/lib/python3.7/site-packages (from timm) (0.10.1)\r\n",
      "Requirement already satisfied: typing-extensions in /opt/conda/lib/python3.7/site-packages (from torch>=1.7->timm) (4.1.1)\r\n",
      "Requirement already satisfied: tqdm in /opt/conda/lib/python3.7/site-packages (from huggingface-hub->timm) (4.64.0)\r\n",
      "Requirement already satisfied: importlib-metadata in /opt/conda/lib/python3.7/site-packages (from huggingface-hub->timm) (4.13.0)\r\n",
      "Requirement already satisfied: requests in /opt/conda/lib/python3.7/site-packages (from huggingface-hub->timm) (2.28.1)\r\n",
      "Requirement already satisfied: packaging>=20.9 in /opt/conda/lib/python3.7/site-packages (from huggingface-hub->timm) (21.3)\r\n",
      "Requirement already satisfied: filelock in /opt/conda/lib/python3.7/site-packages (from huggingface-hub->timm) (3.7.1)\r\n",
      "Requirement already satisfied: numpy in /opt/conda/lib/python3.7/site-packages (from torchvision->timm) (1.21.6)\r\n",
      "Requirement already satisfied: pillow!=8.3.*,>=5.3.0 in /opt/conda/lib/python3.7/site-packages (from torchvision->timm) (9.1.1)\r\n",
      "Requirement already satisfied: pyparsing!=3.0.5,>=2.0.2 in /opt/conda/lib/python3.7/site-packages (from packaging>=20.9->huggingface-hub->timm) (3.0.9)\r\n",
      "Requirement already satisfied: zipp>=0.5 in /opt/conda/lib/python3.7/site-packages (from importlib-metadata->huggingface-hub->timm) (3.8.0)\r\n",
      "Requirement already satisfied: charset-normalizer<3,>=2 in /opt/conda/lib/python3.7/site-packages (from requests->huggingface-hub->timm) (2.1.0)\r\n",
      "Requirement already satisfied: idna<4,>=2.5 in /opt/conda/lib/python3.7/site-packages (from requests->huggingface-hub->timm) (3.3)\r\n",
      "Requirement already satisfied: urllib3<1.27,>=1.21.1 in /opt/conda/lib/python3.7/site-packages (from requests->huggingface-hub->timm) (1.26.12)\r\n",
      "Requirement already satisfied: certifi>=2017.4.17 in /opt/conda/lib/python3.7/site-packages (from requests->huggingface-hub->timm) (2022.9.24)\r\n",
      "Installing collected packages: timm\r\n",
      "Successfully installed timm-0.6.11\r\n",
      "\u001b[33mWARNING: Running pip as the 'root' user can result in broken permissions and conflicting behaviour with the system package manager. It is recommended to use a virtual environment instead: https://pip.pypa.io/warnings/venv\u001b[0m\u001b[33m\r\n",
      "\u001b[0m"
     ]
    }
   ],
   "source": [
    "!pip install timm"
   ]
  },
  {
   "cell_type": "markdown",
   "id": "d691ec0c",
   "metadata": {
    "papermill": {
     "duration": 0.009277,
     "end_time": "2022-10-23T05:27:53.083576",
     "exception": false,
     "start_time": "2022-10-23T05:27:53.074299",
     "status": "completed"
    },
    "tags": []
   },
   "source": [
    "# Libraries"
   ]
  },
  {
   "cell_type": "code",
   "execution_count": 2,
   "id": "5a2f9387",
   "metadata": {
    "execution": {
     "iopub.execute_input": "2022-10-23T05:27:53.105589Z",
     "iopub.status.busy": "2022-10-23T05:27:53.105189Z",
     "iopub.status.idle": "2022-10-23T05:27:57.353484Z",
     "shell.execute_reply": "2022-10-23T05:27:57.352351Z"
    },
    "papermill": {
     "duration": 4.261635,
     "end_time": "2022-10-23T05:27:57.356024",
     "exception": false,
     "start_time": "2022-10-23T05:27:53.094389",
     "status": "completed"
    },
    "tags": []
   },
   "outputs": [],
   "source": [
    "import numpy as np\n",
    "import pandas as pd\n",
    "import matplotlib.pyplot as plt\n",
    "import seaborn as sns\n",
    "from statistics import mean\n",
    "\n",
    "from sklearn.model_selection import train_test_split\n",
    "from sklearn.metrics import accuracy_score\n",
    "import cv2\n",
    "\n",
    "import timm\n",
    "from tqdm import tqdm\n",
    "import torch\n",
    "import torch.nn as nn\n",
    "import torch.nn.functional as F\n",
    "from torch.optim import Adam, SGD, AdamW\n",
    "import torchvision.models as models\n",
    "from torch.utils.data import DataLoader, Dataset\n",
    "from torch.optim.lr_scheduler import StepLR\n",
    "\n",
    "import albumentations as A\n",
    "from albumentations.pytorch import ToTensorV2\n",
    "\n",
    "import warnings\n",
    "warnings.filterwarnings('ignore')"
   ]
  },
  {
   "cell_type": "code",
   "execution_count": 3,
   "id": "b160b32b",
   "metadata": {
    "execution": {
     "iopub.execute_input": "2022-10-23T05:27:57.378993Z",
     "iopub.status.busy": "2022-10-23T05:27:57.377109Z",
     "iopub.status.idle": "2022-10-23T05:27:57.438331Z",
     "shell.execute_reply": "2022-10-23T05:27:57.437128Z"
    },
    "papermill": {
     "duration": 0.07488,
     "end_time": "2022-10-23T05:27:57.440738",
     "exception": false,
     "start_time": "2022-10-23T05:27:57.365858",
     "status": "completed"
    },
    "tags": []
   },
   "outputs": [],
   "source": [
    "device = torch.device(\"cuda\" if torch.cuda.is_available() else \"cpu\")"
   ]
  },
  {
   "cell_type": "markdown",
   "id": "3deb0de6",
   "metadata": {
    "papermill": {
     "duration": 0.009851,
     "end_time": "2022-10-23T05:27:57.461241",
     "exception": false,
     "start_time": "2022-10-23T05:27:57.451390",
     "status": "completed"
    },
    "tags": []
   },
   "source": [
    "# Dataset"
   ]
  },
  {
   "cell_type": "markdown",
   "id": "00e0a52a",
   "metadata": {
    "papermill": {
     "duration": 0.009898,
     "end_time": "2022-10-23T05:27:57.480521",
     "exception": false,
     "start_time": "2022-10-23T05:27:57.470623",
     "status": "completed"
    },
    "tags": []
   },
   "source": [
    "#### Data Analysis\n",
    "* concetto_CDT contains images of hand-drawn clock\n",
    "* train_csv contain the corrsponding image id and their labels\n",
    "* test_csv contain the images which needs to be predicted"
   ]
  },
  {
   "cell_type": "code",
   "execution_count": 4,
   "id": "c3651792",
   "metadata": {
    "execution": {
     "iopub.execute_input": "2022-10-23T05:27:57.501231Z",
     "iopub.status.busy": "2022-10-23T05:27:57.500892Z",
     "iopub.status.idle": "2022-10-23T05:27:57.533123Z",
     "shell.execute_reply": "2022-10-23T05:27:57.532096Z"
    },
    "papermill": {
     "duration": 0.044901,
     "end_time": "2022-10-23T05:27:57.535367",
     "exception": false,
     "start_time": "2022-10-23T05:27:57.490466",
     "status": "completed"
    },
    "tags": []
   },
   "outputs": [],
   "source": [
    "train = pd.read_csv('../input/concetto22/train.csv')\n",
    "test = pd.read_csv('../input/concetto22/test.csv')"
   ]
  },
  {
   "cell_type": "code",
   "execution_count": 5,
   "id": "8548f6ea",
   "metadata": {
    "execution": {
     "iopub.execute_input": "2022-10-23T05:27:57.560012Z",
     "iopub.status.busy": "2022-10-23T05:27:57.558910Z",
     "iopub.status.idle": "2022-10-23T05:27:57.578818Z",
     "shell.execute_reply": "2022-10-23T05:27:57.577641Z"
    },
    "papermill": {
     "duration": 0.034809,
     "end_time": "2022-10-23T05:27:57.581436",
     "exception": false,
     "start_time": "2022-10-23T05:27:57.546627",
     "status": "completed"
    },
    "tags": []
   },
   "outputs": [
    {
     "data": {
      "text/html": [
       "<div>\n",
       "<style scoped>\n",
       "    .dataframe tbody tr th:only-of-type {\n",
       "        vertical-align: middle;\n",
       "    }\n",
       "\n",
       "    .dataframe tbody tr th {\n",
       "        vertical-align: top;\n",
       "    }\n",
       "\n",
       "    .dataframe thead th {\n",
       "        text-align: right;\n",
       "    }\n",
       "</style>\n",
       "<table border=\"1\" class=\"dataframe\">\n",
       "  <thead>\n",
       "    <tr style=\"text-align: right;\">\n",
       "      <th></th>\n",
       "      <th>id</th>\n",
       "      <th>tar</th>\n",
       "    </tr>\n",
       "  </thead>\n",
       "  <tbody>\n",
       "    <tr>\n",
       "      <th>0</th>\n",
       "      <td>20002859.0</td>\n",
       "      <td>5.0</td>\n",
       "    </tr>\n",
       "    <tr>\n",
       "      <th>1</th>\n",
       "      <td>10011157.0</td>\n",
       "      <td>5.0</td>\n",
       "    </tr>\n",
       "    <tr>\n",
       "      <th>2</th>\n",
       "      <td>10011996.0</td>\n",
       "      <td>5.0</td>\n",
       "    </tr>\n",
       "    <tr>\n",
       "      <th>3</th>\n",
       "      <td>10000364.0</td>\n",
       "      <td>5.0</td>\n",
       "    </tr>\n",
       "    <tr>\n",
       "      <th>4</th>\n",
       "      <td>20004294.0</td>\n",
       "      <td>3.0</td>\n",
       "    </tr>\n",
       "  </tbody>\n",
       "</table>\n",
       "</div>"
      ],
      "text/plain": [
       "           id  tar\n",
       "0  20002859.0  5.0\n",
       "1  10011157.0  5.0\n",
       "2  10011996.0  5.0\n",
       "3  10000364.0  5.0\n",
       "4  20004294.0  3.0"
      ]
     },
     "execution_count": 5,
     "metadata": {},
     "output_type": "execute_result"
    }
   ],
   "source": [
    "train.head()"
   ]
  },
  {
   "cell_type": "code",
   "execution_count": 6,
   "id": "916663b5",
   "metadata": {
    "execution": {
     "iopub.execute_input": "2022-10-23T05:27:57.608662Z",
     "iopub.status.busy": "2022-10-23T05:27:57.607609Z",
     "iopub.status.idle": "2022-10-23T05:27:57.618860Z",
     "shell.execute_reply": "2022-10-23T05:27:57.617553Z"
    },
    "papermill": {
     "duration": 0.027041,
     "end_time": "2022-10-23T05:27:57.621387",
     "exception": false,
     "start_time": "2022-10-23T05:27:57.594346",
     "status": "completed"
    },
    "tags": []
   },
   "outputs": [
    {
     "data": {
      "text/html": [
       "<div>\n",
       "<style scoped>\n",
       "    .dataframe tbody tr th:only-of-type {\n",
       "        vertical-align: middle;\n",
       "    }\n",
       "\n",
       "    .dataframe tbody tr th {\n",
       "        vertical-align: top;\n",
       "    }\n",
       "\n",
       "    .dataframe thead th {\n",
       "        text-align: right;\n",
       "    }\n",
       "</style>\n",
       "<table border=\"1\" class=\"dataframe\">\n",
       "  <thead>\n",
       "    <tr style=\"text-align: right;\">\n",
       "      <th></th>\n",
       "      <th>id</th>\n",
       "    </tr>\n",
       "  </thead>\n",
       "  <tbody>\n",
       "    <tr>\n",
       "      <th>0</th>\n",
       "      <td>10002998.0</td>\n",
       "    </tr>\n",
       "    <tr>\n",
       "      <th>1</th>\n",
       "      <td>10003172.0</td>\n",
       "    </tr>\n",
       "    <tr>\n",
       "      <th>2</th>\n",
       "      <td>20004712.0</td>\n",
       "    </tr>\n",
       "    <tr>\n",
       "      <th>3</th>\n",
       "      <td>20004205.0</td>\n",
       "    </tr>\n",
       "    <tr>\n",
       "      <th>4</th>\n",
       "      <td>20000346.0</td>\n",
       "    </tr>\n",
       "  </tbody>\n",
       "</table>\n",
       "</div>"
      ],
      "text/plain": [
       "           id\n",
       "0  10002998.0\n",
       "1  10003172.0\n",
       "2  20004712.0\n",
       "3  20004205.0\n",
       "4  20000346.0"
      ]
     },
     "execution_count": 6,
     "metadata": {},
     "output_type": "execute_result"
    }
   ],
   "source": [
    "test.head()"
   ]
  },
  {
   "cell_type": "code",
   "execution_count": 7,
   "id": "43b801c2",
   "metadata": {
    "execution": {
     "iopub.execute_input": "2022-10-23T05:27:57.647035Z",
     "iopub.status.busy": "2022-10-23T05:27:57.645980Z",
     "iopub.status.idle": "2022-10-23T05:27:57.652902Z",
     "shell.execute_reply": "2022-10-23T05:27:57.651971Z"
    },
    "papermill": {
     "duration": 0.021631,
     "end_time": "2022-10-23T05:27:57.655169",
     "exception": false,
     "start_time": "2022-10-23T05:27:57.633538",
     "status": "completed"
    },
    "tags": []
   },
   "outputs": [],
   "source": [
    "# This function adds an extra column having the path of the images\n",
    "def append_path(df):\n",
    "    target_str = []\n",
    "    for i in range(len(df)):\n",
    "        target_str.append(str(df['id'][i]))\n",
    "    for i in range(len(df)):\n",
    "        target_str[i] = target_str[i].replace('.0', '.tif') \n",
    "        target_str[i] = '/kaggle/input/concetto22/concetto_CDT/concetto_CDT/'+target_str[i]\n",
    "    df['path'] = target_str\n",
    "    return df"
   ]
  },
  {
   "cell_type": "code",
   "execution_count": 8,
   "id": "08e05cac",
   "metadata": {
    "execution": {
     "iopub.execute_input": "2022-10-23T05:27:57.679641Z",
     "iopub.status.busy": "2022-10-23T05:27:57.678779Z",
     "iopub.status.idle": "2022-10-23T05:27:57.714797Z",
     "shell.execute_reply": "2022-10-23T05:27:57.713539Z"
    },
    "papermill": {
     "duration": 0.051014,
     "end_time": "2022-10-23T05:27:57.717297",
     "exception": false,
     "start_time": "2022-10-23T05:27:57.666283",
     "status": "completed"
    },
    "tags": []
   },
   "outputs": [
    {
     "data": {
      "text/html": [
       "<div>\n",
       "<style scoped>\n",
       "    .dataframe tbody tr th:only-of-type {\n",
       "        vertical-align: middle;\n",
       "    }\n",
       "\n",
       "    .dataframe tbody tr th {\n",
       "        vertical-align: top;\n",
       "    }\n",
       "\n",
       "    .dataframe thead th {\n",
       "        text-align: right;\n",
       "    }\n",
       "</style>\n",
       "<table border=\"1\" class=\"dataframe\">\n",
       "  <thead>\n",
       "    <tr style=\"text-align: right;\">\n",
       "      <th></th>\n",
       "      <th>id</th>\n",
       "      <th>tar</th>\n",
       "      <th>path</th>\n",
       "    </tr>\n",
       "  </thead>\n",
       "  <tbody>\n",
       "    <tr>\n",
       "      <th>0</th>\n",
       "      <td>20002859.0</td>\n",
       "      <td>5.0</td>\n",
       "      <td>/kaggle/input/concetto22/concetto_CDT/concetto...</td>\n",
       "    </tr>\n",
       "    <tr>\n",
       "      <th>1</th>\n",
       "      <td>10011157.0</td>\n",
       "      <td>5.0</td>\n",
       "      <td>/kaggle/input/concetto22/concetto_CDT/concetto...</td>\n",
       "    </tr>\n",
       "    <tr>\n",
       "      <th>2</th>\n",
       "      <td>10011996.0</td>\n",
       "      <td>5.0</td>\n",
       "      <td>/kaggle/input/concetto22/concetto_CDT/concetto...</td>\n",
       "    </tr>\n",
       "    <tr>\n",
       "      <th>3</th>\n",
       "      <td>10000364.0</td>\n",
       "      <td>5.0</td>\n",
       "      <td>/kaggle/input/concetto22/concetto_CDT/concetto...</td>\n",
       "    </tr>\n",
       "    <tr>\n",
       "      <th>4</th>\n",
       "      <td>20004294.0</td>\n",
       "      <td>3.0</td>\n",
       "      <td>/kaggle/input/concetto22/concetto_CDT/concetto...</td>\n",
       "    </tr>\n",
       "  </tbody>\n",
       "</table>\n",
       "</div>"
      ],
      "text/plain": [
       "           id  tar                                               path\n",
       "0  20002859.0  5.0  /kaggle/input/concetto22/concetto_CDT/concetto...\n",
       "1  10011157.0  5.0  /kaggle/input/concetto22/concetto_CDT/concetto...\n",
       "2  10011996.0  5.0  /kaggle/input/concetto22/concetto_CDT/concetto...\n",
       "3  10000364.0  5.0  /kaggle/input/concetto22/concetto_CDT/concetto...\n",
       "4  20004294.0  3.0  /kaggle/input/concetto22/concetto_CDT/concetto..."
      ]
     },
     "execution_count": 8,
     "metadata": {},
     "output_type": "execute_result"
    }
   ],
   "source": [
    "train = append_path(train)\n",
    "train.head()"
   ]
  },
  {
   "cell_type": "code",
   "execution_count": 9,
   "id": "dc16e6e5",
   "metadata": {
    "execution": {
     "iopub.execute_input": "2022-10-23T05:27:57.746019Z",
     "iopub.status.busy": "2022-10-23T05:27:57.745524Z",
     "iopub.status.idle": "2022-10-23T05:27:57.762067Z",
     "shell.execute_reply": "2022-10-23T05:27:57.760949Z"
    },
    "papermill": {
     "duration": 0.034911,
     "end_time": "2022-10-23T05:27:57.764521",
     "exception": false,
     "start_time": "2022-10-23T05:27:57.729610",
     "status": "completed"
    },
    "tags": []
   },
   "outputs": [
    {
     "data": {
      "text/html": [
       "<div>\n",
       "<style scoped>\n",
       "    .dataframe tbody tr th:only-of-type {\n",
       "        vertical-align: middle;\n",
       "    }\n",
       "\n",
       "    .dataframe tbody tr th {\n",
       "        vertical-align: top;\n",
       "    }\n",
       "\n",
       "    .dataframe thead th {\n",
       "        text-align: right;\n",
       "    }\n",
       "</style>\n",
       "<table border=\"1\" class=\"dataframe\">\n",
       "  <thead>\n",
       "    <tr style=\"text-align: right;\">\n",
       "      <th></th>\n",
       "      <th>id</th>\n",
       "      <th>path</th>\n",
       "    </tr>\n",
       "  </thead>\n",
       "  <tbody>\n",
       "    <tr>\n",
       "      <th>0</th>\n",
       "      <td>10002998.0</td>\n",
       "      <td>/kaggle/input/concetto22/concetto_CDT/concetto...</td>\n",
       "    </tr>\n",
       "    <tr>\n",
       "      <th>1</th>\n",
       "      <td>10003172.0</td>\n",
       "      <td>/kaggle/input/concetto22/concetto_CDT/concetto...</td>\n",
       "    </tr>\n",
       "    <tr>\n",
       "      <th>2</th>\n",
       "      <td>20004712.0</td>\n",
       "      <td>/kaggle/input/concetto22/concetto_CDT/concetto...</td>\n",
       "    </tr>\n",
       "    <tr>\n",
       "      <th>3</th>\n",
       "      <td>20004205.0</td>\n",
       "      <td>/kaggle/input/concetto22/concetto_CDT/concetto...</td>\n",
       "    </tr>\n",
       "    <tr>\n",
       "      <th>4</th>\n",
       "      <td>20000346.0</td>\n",
       "      <td>/kaggle/input/concetto22/concetto_CDT/concetto...</td>\n",
       "    </tr>\n",
       "  </tbody>\n",
       "</table>\n",
       "</div>"
      ],
      "text/plain": [
       "           id                                               path\n",
       "0  10002998.0  /kaggle/input/concetto22/concetto_CDT/concetto...\n",
       "1  10003172.0  /kaggle/input/concetto22/concetto_CDT/concetto...\n",
       "2  20004712.0  /kaggle/input/concetto22/concetto_CDT/concetto...\n",
       "3  20004205.0  /kaggle/input/concetto22/concetto_CDT/concetto...\n",
       "4  20000346.0  /kaggle/input/concetto22/concetto_CDT/concetto..."
      ]
     },
     "execution_count": 9,
     "metadata": {},
     "output_type": "execute_result"
    }
   ],
   "source": [
    "test = append_path(test)\n",
    "test.head()"
   ]
  },
  {
   "cell_type": "markdown",
   "id": "6800f9c9",
   "metadata": {
    "papermill": {
     "duration": 0.011109,
     "end_time": "2022-10-23T05:27:57.787793",
     "exception": false,
     "start_time": "2022-10-23T05:27:57.776684",
     "status": "completed"
    },
    "tags": []
   },
   "source": [
    "#### Data visualization"
   ]
  },
  {
   "cell_type": "code",
   "execution_count": 10,
   "id": "60898876",
   "metadata": {
    "execution": {
     "iopub.execute_input": "2022-10-23T05:27:57.810832Z",
     "iopub.status.busy": "2022-10-23T05:27:57.810446Z",
     "iopub.status.idle": "2022-10-23T05:27:59.317217Z",
     "shell.execute_reply": "2022-10-23T05:27:59.316349Z"
    },
    "papermill": {
     "duration": 1.520516,
     "end_time": "2022-10-23T05:27:59.319321",
     "exception": false,
     "start_time": "2022-10-23T05:27:57.798805",
     "status": "completed"
    },
    "tags": []
   },
   "outputs": [
    {
     "data": {
      "text/plain": [
       "<matplotlib.image.AxesImage at 0x7fb301c4f690>"
      ]
     },
     "execution_count": 10,
     "metadata": {},
     "output_type": "execute_result"
    },
    {
     "data": {
      "image/png": "[encoded data removed]",
      "text/plain": [
       "<Figure size 432x288 with 1 Axes>"
      ]
     },
     "metadata": {
      "needs_background": "light"
     },
     "output_type": "display_data"
    }
   ],
   "source": [
    "plt.imshow(cv2.imread(train['path'][0]))"
   ]
  },
  {
   "cell_type": "markdown",
   "id": "15289aaa",
   "metadata": {
    "papermill": {
     "duration": 0.010054,
     "end_time": "2022-10-23T05:27:59.341189",
     "exception": false,
     "start_time": "2022-10-23T05:27:59.331135",
     "status": "completed"
    },
    "tags": []
   },
   "source": [
    "#### Splitting the train data into train and val set"
   ]
  },
  {
   "cell_type": "code",
   "execution_count": 11,
   "id": "a6fbed90",
   "metadata": {
    "execution": {
     "iopub.execute_input": "2022-10-23T05:27:59.363046Z",
     "iopub.status.busy": "2022-10-23T05:27:59.362706Z",
     "iopub.status.idle": "2022-10-23T05:27:59.375612Z",
     "shell.execute_reply": "2022-10-23T05:27:59.374698Z"
    },
    "papermill": {
     "duration": 0.02651,
     "end_time": "2022-10-23T05:27:59.377841",
     "exception": false,
     "start_time": "2022-10-23T05:27:59.351331",
     "status": "completed"
    },
    "tags": []
   },
   "outputs": [],
   "source": [
    "X = train.drop(['tar'], axis=1)\n",
    "y = train['tar']\n",
    "x_train, x_val, y_train, y_val = train_test_split(X, y, test_size=0.1, random_state=42, stratify = y)"
   ]
  },
  {
   "cell_type": "code",
   "execution_count": 12,
   "id": "c03def0b",
   "metadata": {
    "execution": {
     "iopub.execute_input": "2022-10-23T05:27:59.400002Z",
     "iopub.status.busy": "2022-10-23T05:27:59.399726Z",
     "iopub.status.idle": "2022-10-23T05:27:59.413512Z",
     "shell.execute_reply": "2022-10-23T05:27:59.412651Z"
    },
    "papermill": {
     "duration": 0.027122,
     "end_time": "2022-10-23T05:27:59.415670",
     "exception": false,
     "start_time": "2022-10-23T05:27:59.388548",
     "status": "completed"
    },
    "tags": []
   },
   "outputs": [],
   "source": [
    "train_data = pd.merge(x_train, y_train, right_index=True, left_index=True)\n",
    "val_data = pd.merge(x_val, y_val, right_index=True, left_index=True)"
   ]
  },
  {
   "cell_type": "code",
   "execution_count": 13,
   "id": "98420ffc",
   "metadata": {
    "execution": {
     "iopub.execute_input": "2022-10-23T05:27:59.437896Z",
     "iopub.status.busy": "2022-10-23T05:27:59.437015Z",
     "iopub.status.idle": "2022-10-23T05:27:59.442360Z",
     "shell.execute_reply": "2022-10-23T05:27:59.441575Z"
    },
    "papermill": {
     "duration": 0.018492,
     "end_time": "2022-10-23T05:27:59.444332",
     "exception": false,
     "start_time": "2022-10-23T05:27:59.425840",
     "status": "completed"
    },
    "tags": []
   },
   "outputs": [],
   "source": [
    "#defining a configuration\n",
    "\n",
    "class CFG:\n",
    "    model_name = 'resnet34'\n",
    "    target_size = 6\n",
    "    size = 264\n",
    "    batch_size = 16\n",
    "    epochs = 10\n",
    "    num_workers = 2\n",
    "    lr = 1e-2\n",
    "    weight_decay = 1e-2\n",
    "    train = True\n",
    "    target_col = 'tar'"
   ]
  },
  {
   "cell_type": "markdown",
   "id": "2b2575b9",
   "metadata": {
    "papermill": {
     "duration": 0.010007,
     "end_time": "2022-10-23T05:27:59.464423",
     "exception": false,
     "start_time": "2022-10-23T05:27:59.454416",
     "status": "completed"
    },
    "tags": []
   },
   "source": [
    "#### Dataset creation \n",
    "Creating a custom dataset for training and test data which takes path of images, transforms it and converts the image to tensors for further processing."
   ]
  },
  {
   "cell_type": "code",
   "execution_count": 14,
   "id": "32034241",
   "metadata": {
    "execution": {
     "iopub.execute_input": "2022-10-23T05:27:59.486838Z",
     "iopub.status.busy": "2022-10-23T05:27:59.486512Z",
     "iopub.status.idle": "2022-10-23T05:27:59.496231Z",
     "shell.execute_reply": "2022-10-23T05:27:59.495337Z"
    },
    "papermill": {
     "duration": 0.023391,
     "end_time": "2022-10-23T05:27:59.498271",
     "exception": false,
     "start_time": "2022-10-23T05:27:59.474880",
     "status": "completed"
    },
    "tags": []
   },
   "outputs": [],
   "source": [
    "class TrainDataset(Dataset):\n",
    "    def __init__(self, df, transform=None):\n",
    "        self.df = df\n",
    "        self.file_names = df['path'].values\n",
    "        self.labels = df['tar'].values\n",
    "        self.transform = transform\n",
    "        \n",
    "    def __len__(self):\n",
    "        return len(self.df)\n",
    "\n",
    "    def __getitem__(self, idx):\n",
    "        file_name = self.file_names[idx]\n",
    "        file_path = file_name\n",
    "        image = cv2.imread(file_path)\n",
    "        image = cv2.cvtColor(image, cv2.COLOR_BGR2RGB)\n",
    "        if self.transform:\n",
    "            augmented = self.transform(image=image)\n",
    "            image = augmented['image']\n",
    "        label = torch.tensor(self.labels[idx]).long()\n",
    "        return image, label\n",
    "    \n",
    "\n",
    "class TestDataset(Dataset):\n",
    "    def __init__(self, df, transform=None):\n",
    "        self.df = df\n",
    "        self.file_names = df['path'].values\n",
    "        self.transform = transform\n",
    "        \n",
    "    def __len__(self):\n",
    "        return len(self.df)\n",
    "\n",
    "    def __getitem__(self, idx):\n",
    "        file_name = self.file_names[idx]\n",
    "        file_path = file_name\n",
    "        image = cv2.imread(file_path)\n",
    "        image = cv2.cvtColor(image, cv2.COLOR_BGR2RGB)\n",
    "        if self.transform:\n",
    "            augmented = self.transform(image=image)\n",
    "            image = augmented['image']\n",
    "        return image"
   ]
  },
  {
   "cell_type": "markdown",
   "id": "190f6011",
   "metadata": {
    "papermill": {
     "duration": 0.009907,
     "end_time": "2022-10-23T05:27:59.518438",
     "exception": false,
     "start_time": "2022-10-23T05:27:59.508531",
     "status": "completed"
    },
    "tags": []
   },
   "source": [
    "# Transformation"
   ]
  },
  {
   "cell_type": "markdown",
   "id": "1d22029c",
   "metadata": {
    "papermill": {
     "duration": 0.00991,
     "end_time": "2022-10-23T05:27:59.538443",
     "exception": false,
     "start_time": "2022-10-23T05:27:59.528533",
     "status": "completed"
    },
    "tags": []
   },
   "source": [
    "#### Augmentation\n",
    "Applying some necessary augmentations like resizing the image to the size accepted by model, Normalizing the tensors.\n",
    "Albumentations like RandomResizedCrop and HorizontalFlip are used to augment the dataset.\n",
    "Find more albumentations [here](https://github.com/pytorch/vision/blob/main/torchvision/transforms/transforms.py)"
   ]
  },
  {
   "cell_type": "code",
   "execution_count": 15,
   "id": "115568de",
   "metadata": {
    "execution": {
     "iopub.execute_input": "2022-10-23T05:27:59.560926Z",
     "iopub.status.busy": "2022-10-23T05:27:59.559905Z",
     "iopub.status.idle": "2022-10-23T05:27:59.567274Z",
     "shell.execute_reply": "2022-10-23T05:27:59.566405Z"
    },
    "papermill": {
     "duration": 0.020667,
     "end_time": "2022-10-23T05:27:59.569242",
     "exception": false,
     "start_time": "2022-10-23T05:27:59.548575",
     "status": "completed"
    },
    "tags": []
   },
   "outputs": [],
   "source": [
    "# Transforms\n",
    "def get_transforms(*, data):\n",
    "    \n",
    "    if data == 'train':\n",
    "        return A.Compose([\n",
    "            A.Resize(CFG.size, CFG.size),\n",
    "            A.RandomResizedCrop(224, 224),\n",
    "            A.HorizontalFlip(p=0.5),\n",
    "#             A.augmentations.geometric.rotate.Rotate(limit=30, p=0.5),\n",
    "            A.Normalize(\n",
    "                mean=[0.485, 0.456, 0.406],\n",
    "                std=[0.229, 0.224, 0.225],\n",
    "            ),\n",
    "            ToTensorV2(),\n",
    "        ])\n",
    "\n",
    "    elif data == 'valid':\n",
    "        return A.Compose([\n",
    "            A.Resize(CFG.size, CFG.size),\n",
    "            A.Normalize(\n",
    "                mean=[0.485, 0.456, 0.406],\n",
    "                std=[0.229, 0.224, 0.225],\n",
    "            ),\n",
    "            ToTensorV2(),\n",
    "        ])"
   ]
  },
  {
   "cell_type": "markdown",
   "id": "6bebd72f",
   "metadata": {
    "papermill": {
     "duration": 0.010018,
     "end_time": "2022-10-23T05:27:59.589456",
     "exception": false,
     "start_time": "2022-10-23T05:27:59.579438",
     "status": "completed"
    },
    "tags": []
   },
   "source": [
    "# Model"
   ]
  },
  {
   "cell_type": "code",
   "execution_count": 16,
   "id": "2511cc89",
   "metadata": {
    "execution": {
     "iopub.execute_input": "2022-10-23T05:27:59.611908Z",
     "iopub.status.busy": "2022-10-23T05:27:59.610940Z",
     "iopub.status.idle": "2022-10-23T05:27:59.617662Z",
     "shell.execute_reply": "2022-10-23T05:27:59.616821Z"
    },
    "papermill": {
     "duration": 0.019986,
     "end_time": "2022-10-23T05:27:59.619623",
     "exception": false,
     "start_time": "2022-10-23T05:27:59.599637",
     "status": "completed"
    },
    "tags": []
   },
   "outputs": [],
   "source": [
    "class CustomNet(nn.Module):\n",
    "    def __init__(self, model_name=CFG.model_name, pretrained=False):\n",
    "        super().__init__()\n",
    "        self.model = timm.create_model(CFG.model_name, pretrained=pretrained)\n",
    "        print(self.model.default_cfg[\"classifier\"])\n",
    "        n_features = self.model.fc.in_features #either fc or classifier , check using above line\n",
    "        self.model.classifier = nn.Linear(n_features, CFG.target_size)\n",
    "\n",
    "    def forward(self, x):\n",
    "        x = self.model(x)\n",
    "        return x\n",
    "    "
   ]
  },
  {
   "cell_type": "code",
   "execution_count": 17,
   "id": "e9766022",
   "metadata": {
    "execution": {
     "iopub.execute_input": "2022-10-23T05:27:59.641996Z",
     "iopub.status.busy": "2022-10-23T05:27:59.641037Z",
     "iopub.status.idle": "2022-10-23T05:28:18.568755Z",
     "shell.execute_reply": "2022-10-23T05:28:18.566665Z"
    },
    "papermill": {
     "duration": 18.941344,
     "end_time": "2022-10-23T05:28:18.571103",
     "exception": false,
     "start_time": "2022-10-23T05:27:59.629759",
     "status": "completed"
    },
    "tags": []
   },
   "outputs": [
    {
     "name": "stderr",
     "output_type": "stream",
     "text": [
      "Downloading: \"https://github.com/rwightman/pytorch-image-models/releases/download/v0.1-weights/resnet34-43635321.pth\" to /root/.cache/torch/hub/checkpoints/resnet34-43635321.pth\n"
     ]
    },
    {
     "name": "stdout",
     "output_type": "stream",
     "text": [
      "fc\n"
     ]
    }
   ],
   "source": [
    "model = CustomNet(model_name=CFG.model_name, pretrained=True)"
   ]
  },
  {
   "cell_type": "markdown",
   "id": "6d97cf5e",
   "metadata": {
    "papermill": {
     "duration": 0.010529,
     "end_time": "2022-10-23T05:28:18.592281",
     "exception": false,
     "start_time": "2022-10-23T05:28:18.581752",
     "status": "completed"
    },
    "tags": []
   },
   "source": [
    "## Loss Function\n",
    "The loss function used, here [CrossEntropyLoss.](https://pytorch.org/docs/stable/generated/torch.nn.CrossEntropyLoss.html)"
   ]
  },
  {
   "cell_type": "code",
   "execution_count": 18,
   "id": "34e62c6b",
   "metadata": {
    "execution": {
     "iopub.execute_input": "2022-10-23T05:28:18.615727Z",
     "iopub.status.busy": "2022-10-23T05:28:18.615338Z",
     "iopub.status.idle": "2022-10-23T05:28:18.626135Z",
     "shell.execute_reply": "2022-10-23T05:28:18.625165Z"
    },
    "papermill": {
     "duration": 0.025165,
     "end_time": "2022-10-23T05:28:18.628224",
     "exception": false,
     "start_time": "2022-10-23T05:28:18.603059",
     "status": "completed"
    },
    "tags": []
   },
   "outputs": [],
   "source": [
    "def get_criterion():\n",
    "    criterion = nn.CrossEntropyLoss()\n",
    "    return criterion"
   ]
  },
  {
   "cell_type": "code",
   "execution_count": 19,
   "id": "304fbfe5",
   "metadata": {
    "execution": {
     "iopub.execute_input": "2022-10-23T05:28:18.651259Z",
     "iopub.status.busy": "2022-10-23T05:28:18.650885Z",
     "iopub.status.idle": "2022-10-23T05:28:18.655770Z",
     "shell.execute_reply": "2022-10-23T05:28:18.654663Z"
    },
    "papermill": {
     "duration": 0.018962,
     "end_time": "2022-10-23T05:28:18.657891",
     "exception": false,
     "start_time": "2022-10-23T05:28:18.638929",
     "status": "completed"
    },
    "tags": []
   },
   "outputs": [],
   "source": [
    "def get_score(y_true, y_pred):\n",
    "    return accuracy_score(y_true, y_pred)"
   ]
  },
  {
   "cell_type": "markdown",
   "id": "3ad9450c",
   "metadata": {
    "papermill": {
     "duration": 0.010361,
     "end_time": "2022-10-23T05:28:18.678947",
     "exception": false,
     "start_time": "2022-10-23T05:28:18.668586",
     "status": "completed"
    },
    "tags": []
   },
   "source": [
    "## Optimizer"
   ]
  },
  {
   "cell_type": "code",
   "execution_count": 20,
   "id": "5275fa1a",
   "metadata": {
    "execution": {
     "iopub.execute_input": "2022-10-23T05:28:18.702463Z",
     "iopub.status.busy": "2022-10-23T05:28:18.701484Z",
     "iopub.status.idle": "2022-10-23T05:28:18.707200Z",
     "shell.execute_reply": "2022-10-23T05:28:18.706155Z"
    },
    "papermill": {
     "duration": 0.019652,
     "end_time": "2022-10-23T05:28:18.709298",
     "exception": false,
     "start_time": "2022-10-23T05:28:18.689646",
     "status": "completed"
    },
    "tags": []
   },
   "outputs": [],
   "source": [
    "def get_optimizer(model):\n",
    "    optimizer = SGD(model.parameters(), lr=CFG.lr, momentum=0.85, weight_decay=CFG.weight_decay)\n",
    "    return optimizer"
   ]
  },
  {
   "cell_type": "markdown",
   "id": "b4467b45",
   "metadata": {
    "papermill": {
     "duration": 0.010247,
     "end_time": "2022-10-23T05:28:18.730224",
     "exception": false,
     "start_time": "2022-10-23T05:28:18.719977",
     "status": "completed"
    },
    "tags": []
   },
   "source": [
    "## Scheduler\n",
    "It is used for adjusting the learning rate(LR decay) between epochs as the training progresses. Read about more schedulers [here](https://pytorch.org/docs/stable/optim.html#)"
   ]
  },
  {
   "cell_type": "code",
   "execution_count": 21,
   "id": "f91b6dad",
   "metadata": {
    "execution": {
     "iopub.execute_input": "2022-10-23T05:28:18.752360Z",
     "iopub.status.busy": "2022-10-23T05:28:18.751997Z",
     "iopub.status.idle": "2022-10-23T05:28:18.756774Z",
     "shell.execute_reply": "2022-10-23T05:28:18.755794Z"
    },
    "papermill": {
     "duration": 0.018233,
     "end_time": "2022-10-23T05:28:18.758796",
     "exception": false,
     "start_time": "2022-10-23T05:28:18.740563",
     "status": "completed"
    },
    "tags": []
   },
   "outputs": [],
   "source": [
    "def get_scheduler(optimizer):\n",
    "    #multistepLR\n",
    "    #cosineannealing\n",
    "#     scheduler = torch.optim.lr_scheduler.CosineAnnealingWarmRestarts(optimizer, T_0=50, T_mult=1, eta_min=0, last_epoch=- 1, verbose=False)\n",
    "    scheduler = StepLR(optimizer, step_size=3, gamma=0.1, verbose=True)\n",
    "\n",
    "    return scheduler"
   ]
  },
  {
   "cell_type": "markdown",
   "id": "576e8c8c",
   "metadata": {
    "papermill": {
     "duration": 0.010497,
     "end_time": "2022-10-23T05:28:18.780678",
     "exception": false,
     "start_time": "2022-10-23T05:28:18.770181",
     "status": "completed"
    },
    "tags": []
   },
   "source": [
    "## Utility Functions"
   ]
  },
  {
   "cell_type": "code",
   "execution_count": 22,
   "id": "7f77e1c9",
   "metadata": {
    "execution": {
     "iopub.execute_input": "2022-10-23T05:28:18.804659Z",
     "iopub.status.busy": "2022-10-23T05:28:18.803031Z",
     "iopub.status.idle": "2022-10-23T05:28:18.816484Z",
     "shell.execute_reply": "2022-10-23T05:28:18.815543Z"
    },
    "papermill": {
     "duration": 0.027341,
     "end_time": "2022-10-23T05:28:18.818461",
     "exception": false,
     "start_time": "2022-10-23T05:28:18.791120",
     "status": "completed"
    },
    "tags": []
   },
   "outputs": [],
   "source": [
    "class AverageMeter(object):\n",
    "    \"\"\"Computes and stores the average and current value\"\"\"\n",
    "    def __init__(self):\n",
    "        self.reset()\n",
    "\n",
    "    def reset(self):\n",
    "        self.val = 0\n",
    "        self.avg = 0\n",
    "        self.sum = 0\n",
    "        self.count = 0\n",
    "\n",
    "    def update(self, val, n=1):\n",
    "        self.val = val\n",
    "        self.sum += val * n\n",
    "        self.count += n\n",
    "        self.avg = self.sum / self.count\n",
    "        \n",
    "def train_fn(train_loader, model, criterion, optimizer, epoch, scheduler, device):\n",
    "    model.train() # switch to training mode\n",
    "    running_loss = 0\n",
    "    count = 0\n",
    "    for (images, labels) in tqdm(train_loader):\n",
    "        images = images.to(device)\n",
    "        labels = labels.to(device)\n",
    "        y_preds = model(images)\n",
    "        \n",
    "        loss = criterion(y_preds, labels)\n",
    "        running_loss += loss.item()*labels.shape[0]\n",
    "        count += 1\n",
    "        \n",
    "        loss.backward()\n",
    "        optimizer.step()\n",
    "        optimizer.zero_grad()\n",
    "        \n",
    "    return running_loss/count\n",
    "\n",
    "def valid_fn(valid_loader, model, criterion, device):\n",
    "    model.eval() # switch to evaluation mode\n",
    "    preds = []\n",
    "    running_loss = 0\n",
    "    count = 0\n",
    "    \n",
    "    for (images, labels) in tqdm(valid_loader):\n",
    "        images = images.to(device)\n",
    "        labels = labels.to(device)\n",
    "        # compute loss\n",
    "        with torch.no_grad():\n",
    "            y_preds = model(images)\n",
    "        loss = criterion(y_preds, labels)\n",
    "        running_loss += loss.item()*labels.shape[0]\n",
    "        count += 1\n",
    "        # record accuracy\n",
    "        preds.append(y_preds.softmax(1).to('cpu').numpy())\n",
    "    predictions = np.concatenate(preds)\n",
    "    \n",
    "    return (running_loss/count), predictions\n",
    "\n",
    "def test_fun(test_loader, model, device):\n",
    "    model.eval()\n",
    "    preds = []\n",
    "    test_df = pd.DataFrame()\n",
    "    for step, (images) in enumerate(test_loader):\n",
    "        images = images.to(device)\n",
    "        with torch.no_grad():\n",
    "            y_preds = model(images)\n",
    "        preds.append(y_preds.softmax(1).to('cpu').numpy())\n",
    "    predictions = np.concatenate(preds)\n",
    "    pred = predictions.argmax(1)\n",
    "    return pred"
   ]
  },
  {
   "cell_type": "markdown",
   "id": "0ceac798",
   "metadata": {
    "papermill": {
     "duration": 0.010288,
     "end_time": "2022-10-23T05:28:18.839371",
     "exception": false,
     "start_time": "2022-10-23T05:28:18.829083",
     "status": "completed"
    },
    "tags": []
   },
   "source": [
    "# Train loop"
   ]
  },
  {
   "cell_type": "code",
   "execution_count": 23,
   "id": "342529d2",
   "metadata": {
    "execution": {
     "iopub.execute_input": "2022-10-23T05:28:18.861987Z",
     "iopub.status.busy": "2022-10-23T05:28:18.861624Z",
     "iopub.status.idle": "2022-10-23T05:28:18.873628Z",
     "shell.execute_reply": "2022-10-23T05:28:18.872760Z"
    },
    "papermill": {
     "duration": 0.025882,
     "end_time": "2022-10-23T05:28:18.875754",
     "exception": false,
     "start_time": "2022-10-23T05:28:18.849872",
     "status": "completed"
    },
    "tags": []
   },
   "outputs": [],
   "source": [
    "# Train loop\n",
    "def train_loop(train_data, valid_data):\n",
    "    \n",
    "    # create dataset\n",
    "    train_dataset = TrainDataset(train_data, transform=get_transforms(data='train'))\n",
    "    valid_dataset = TrainDataset(valid_data, transform=get_transforms(data='valid'))\n",
    "\n",
    "    # create dataloader\n",
    "    train_loader = DataLoader(train_dataset, batch_size=CFG.batch_size, shuffle=True, \n",
    "                              num_workers=CFG.num_workers, pin_memory=True, drop_last=True)\n",
    "    valid_loader = DataLoader(valid_dataset, batch_size=CFG.batch_size, shuffle=False, \n",
    "                              num_workers=CFG.num_workers, pin_memory=True, drop_last=False)\n",
    "\n",
    "    # create model and transfer to device\n",
    "    model = CustomNet(CFG.model_name, pretrained=True)\n",
    "    model.to(device)\n",
    "    \n",
    "    # select optimizer, scheduler and criterion\n",
    "    optimizer = get_optimizer(model)\n",
    "    scheduler = get_scheduler(optimizer)\n",
    "    criterion = get_criterion()\n",
    "\n",
    "    best_score = -1.0\n",
    "    best_loss = np.inf\n",
    "    \n",
    "    # start training\n",
    "    for epoch in range(CFG.epochs):\n",
    "        # train\n",
    "        avg_loss = train_fn(train_loader, model, criterion, optimizer, epoch, scheduler, device)\n",
    "        # validation\n",
    "        avg_val_loss, preds = valid_fn(valid_loader, model, criterion, device)\n",
    "        \n",
    "#         valid_labels = valid_folds[CFG.target_col].values\n",
    "        valid_labels = valid_data['tar']\n",
    "        \n",
    "        scheduler.step()\n",
    "\n",
    "        # scoring\n",
    "        score = get_score(valid_labels, preds.argmax(1))\n",
    "        print(\"score: \", score)\n",
    "\n",
    "        # code for saving the best model\n",
    "        if score > best_score:\n",
    "            print('Score Improved')\n",
    "            best_score = score\n",
    "            print(f'Epoch {epoch+1} - Save Best Score: {best_score:.4f}')\n",
    "            torch.save({'model': model.state_dict(), \n",
    "                        'preds': preds,\n",
    "                        'optimizer': optimizer.state_dict(),\n",
    "                        'scheduler': scheduler.state_dict()},\n",
    "                        './'+f'{CFG.model_name}_best.pth')\n",
    "    \n",
    "    check_point = torch.load('./'+f'{CFG.model_name}_best.pth')\n",
    "    valid_data['preds'] = check_point['preds'].argmax(1)\n",
    "\n",
    "    return valid_data"
   ]
  },
  {
   "cell_type": "code",
   "execution_count": 24,
   "id": "05d837db",
   "metadata": {
    "execution": {
     "iopub.execute_input": "2022-10-23T05:28:18.898063Z",
     "iopub.status.busy": "2022-10-23T05:28:18.897724Z",
     "iopub.status.idle": "2022-10-23T05:28:18.903443Z",
     "shell.execute_reply": "2022-10-23T05:28:18.902486Z"
    },
    "papermill": {
     "duration": 0.019365,
     "end_time": "2022-10-23T05:28:18.905553",
     "exception": false,
     "start_time": "2022-10-23T05:28:18.886188",
     "status": "completed"
    },
    "tags": []
   },
   "outputs": [],
   "source": [
    "# main\n",
    "def main():\n",
    "    def get_result(result_df):\n",
    "        preds = result_df['preds'].values\n",
    "        labels = result_df[CFG.target_col].values\n",
    "        score = get_score(labels, preds)\n",
    "    \n",
    "    if CFG.train: \n",
    "        # train\n",
    "        df = train_loop(train_data, val_data)\n",
    "        get_result(df)"
   ]
  },
  {
   "cell_type": "code",
   "execution_count": 25,
   "id": "1a323939",
   "metadata": {
    "execution": {
     "iopub.execute_input": "2022-10-23T05:28:18.927812Z",
     "iopub.status.busy": "2022-10-23T05:28:18.927458Z",
     "iopub.status.idle": "2022-10-23T05:45:45.583160Z",
     "shell.execute_reply": "2022-10-23T05:45:45.581844Z"
    },
    "papermill": {
     "duration": 1046.670151,
     "end_time": "2022-10-23T05:45:45.586104",
     "exception": false,
     "start_time": "2022-10-23T05:28:18.915953",
     "status": "completed"
    },
    "tags": []
   },
   "outputs": [
    {
     "name": "stdout",
     "output_type": "stream",
     "text": [
      "fc\n",
      "Adjusting learning rate of group 0 to 1.0000e-02.\n"
     ]
    },
    {
     "name": "stderr",
     "output_type": "stream",
     "text": [
      "100%|██████████| 142/142 [01:39<00:00,  1.43it/s]\n",
      "100%|██████████| 16/16 [00:10<00:00,  1.46it/s]\n"
     ]
    },
    {
     "name": "stdout",
     "output_type": "stream",
     "text": [
      "Adjusting learning rate of group 0 to 1.0000e-02.\n",
      "score:  0.37401574803149606\n",
      "Score Improved\n",
      "Epoch 1 - Save Best Score: 0.3740\n"
     ]
    },
    {
     "name": "stderr",
     "output_type": "stream",
     "text": [
      "100%|██████████| 142/142 [01:32<00:00,  1.54it/s]\n",
      "100%|██████████| 16/16 [00:10<00:00,  1.52it/s]\n"
     ]
    },
    {
     "name": "stdout",
     "output_type": "stream",
     "text": [
      "Adjusting learning rate of group 0 to 1.0000e-02.\n",
      "score:  0.5196850393700787\n",
      "Score Improved\n",
      "Epoch 2 - Save Best Score: 0.5197\n"
     ]
    },
    {
     "name": "stderr",
     "output_type": "stream",
     "text": [
      "100%|██████████| 142/142 [01:32<00:00,  1.54it/s]\n",
      "100%|██████████| 16/16 [00:10<00:00,  1.49it/s]\n"
     ]
    },
    {
     "name": "stdout",
     "output_type": "stream",
     "text": [
      "Adjusting learning rate of group 0 to 1.0000e-03.\n",
      "score:  0.5\n"
     ]
    },
    {
     "name": "stderr",
     "output_type": "stream",
     "text": [
      "100%|██████████| 142/142 [01:33<00:00,  1.53it/s]\n",
      "100%|██████████| 16/16 [00:11<00:00,  1.42it/s]\n"
     ]
    },
    {
     "name": "stdout",
     "output_type": "stream",
     "text": [
      "Adjusting learning rate of group 0 to 1.0000e-03.\n",
      "score:  0.5708661417322834\n",
      "Score Improved\n",
      "Epoch 4 - Save Best Score: 0.5709\n"
     ]
    },
    {
     "name": "stderr",
     "output_type": "stream",
     "text": [
      "100%|██████████| 142/142 [01:33<00:00,  1.52it/s]\n",
      "100%|██████████| 16/16 [00:10<00:00,  1.49it/s]\n"
     ]
    },
    {
     "name": "stdout",
     "output_type": "stream",
     "text": [
      "Adjusting learning rate of group 0 to 1.0000e-03.\n",
      "score:  0.562992125984252\n"
     ]
    },
    {
     "name": "stderr",
     "output_type": "stream",
     "text": [
      "100%|██████████| 142/142 [01:32<00:00,  1.53it/s]\n",
      "100%|██████████| 16/16 [00:10<00:00,  1.50it/s]\n"
     ]
    },
    {
     "name": "stdout",
     "output_type": "stream",
     "text": [
      "Adjusting learning rate of group 0 to 1.0000e-04.\n",
      "score:  0.5590551181102362\n"
     ]
    },
    {
     "name": "stderr",
     "output_type": "stream",
     "text": [
      "100%|██████████| 142/142 [01:32<00:00,  1.53it/s]\n",
      "100%|██████████| 16/16 [00:10<00:00,  1.51it/s]\n"
     ]
    },
    {
     "name": "stdout",
     "output_type": "stream",
     "text": [
      "Adjusting learning rate of group 0 to 1.0000e-04.\n",
      "score:  0.5748031496062992\n",
      "Score Improved\n",
      "Epoch 7 - Save Best Score: 0.5748\n"
     ]
    },
    {
     "name": "stderr",
     "output_type": "stream",
     "text": [
      "100%|██████████| 142/142 [01:31<00:00,  1.55it/s]\n",
      "100%|██████████| 16/16 [00:11<00:00,  1.43it/s]\n"
     ]
    },
    {
     "name": "stdout",
     "output_type": "stream",
     "text": [
      "Adjusting learning rate of group 0 to 1.0000e-04.\n",
      "score:  0.5551181102362205\n"
     ]
    },
    {
     "name": "stderr",
     "output_type": "stream",
     "text": [
      "100%|██████████| 142/142 [01:33<00:00,  1.52it/s]\n",
      "100%|██████████| 16/16 [00:10<00:00,  1.52it/s]\n"
     ]
    },
    {
     "name": "stdout",
     "output_type": "stream",
     "text": [
      "Adjusting learning rate of group 0 to 1.0000e-05.\n",
      "score:  0.5984251968503937\n",
      "Score Improved\n",
      "Epoch 9 - Save Best Score: 0.5984\n"
     ]
    },
    {
     "name": "stderr",
     "output_type": "stream",
     "text": [
      "100%|██████████| 142/142 [01:31<00:00,  1.55it/s]\n",
      "100%|██████████| 16/16 [00:10<00:00,  1.49it/s]\n"
     ]
    },
    {
     "name": "stdout",
     "output_type": "stream",
     "text": [
      "Adjusting learning rate of group 0 to 1.0000e-05.\n",
      "score:  0.5748031496062992\n"
     ]
    }
   ],
   "source": [
    "if __name__ == '__main__':\n",
    "    main()"
   ]
  },
  {
   "cell_type": "code",
   "execution_count": 26,
   "id": "d1b87892",
   "metadata": {
    "execution": {
     "iopub.execute_input": "2022-10-23T05:45:45.716383Z",
     "iopub.status.busy": "2022-10-23T05:45:45.715979Z",
     "iopub.status.idle": "2022-10-23T05:46:13.848611Z",
     "shell.execute_reply": "2022-10-23T05:46:13.847354Z"
    },
    "papermill": {
     "duration": 28.200901,
     "end_time": "2022-10-23T05:46:13.851503",
     "exception": false,
     "start_time": "2022-10-23T05:45:45.650602",
     "status": "completed"
    },
    "tags": []
   },
   "outputs": [
    {
     "name": "stdout",
     "output_type": "stream",
     "text": [
      "fc\n"
     ]
    }
   ],
   "source": [
    "test_dataset = TestDataset(test, transform=get_transforms(data='valid'))\n",
    "test_loader = DataLoader(test_dataset, batch_size=1, shuffle=False, \n",
    "                          num_workers=CFG.num_workers, pin_memory=True, drop_last=False)\n",
    "check_point = torch.load('./'+f'{CFG.model_name}_best.pth')\n",
    "model = CustomNet(CFG.model_name, pretrained=True)\n",
    "model.to(device)\n",
    "model.load_state_dict(check_point['model'])\n",
    "pred = test_fun(test_loader, model, device)"
   ]
  },
  {
   "cell_type": "code",
   "execution_count": 27,
   "id": "04bb5331",
   "metadata": {
    "execution": {
     "iopub.execute_input": "2022-10-23T05:46:14.055203Z",
     "iopub.status.busy": "2022-10-23T05:46:14.054547Z",
     "iopub.status.idle": "2022-10-23T05:46:14.066357Z",
     "shell.execute_reply": "2022-10-23T05:46:14.065322Z"
    },
    "papermill": {
     "duration": 0.153501,
     "end_time": "2022-10-23T05:46:14.068628",
     "exception": false,
     "start_time": "2022-10-23T05:46:13.915127",
     "status": "completed"
    },
    "tags": []
   },
   "outputs": [],
   "source": [
    "test['tar'] = pred"
   ]
  },
  {
   "cell_type": "code",
   "execution_count": 28,
   "id": "e063363d",
   "metadata": {
    "execution": {
     "iopub.execute_input": "2022-10-23T05:46:14.292536Z",
     "iopub.status.busy": "2022-10-23T05:46:14.292153Z",
     "iopub.status.idle": "2022-10-23T05:46:14.306450Z",
     "shell.execute_reply": "2022-10-23T05:46:14.305467Z"
    },
    "papermill": {
     "duration": 0.112814,
     "end_time": "2022-10-23T05:46:14.309198",
     "exception": false,
     "start_time": "2022-10-23T05:46:14.196384",
     "status": "completed"
    },
    "tags": []
   },
   "outputs": [],
   "source": [
    "submission_df = test.drop(['path'], axis=1)\n",
    "submission_df.to_csv(\"submission.csv\", index=False)"
   ]
  },
  {
   "cell_type": "code",
   "execution_count": 29,
   "id": "b0ad23df",
   "metadata": {
    "execution": {
     "iopub.execute_input": "2022-10-23T05:46:14.515433Z",
     "iopub.status.busy": "2022-10-23T05:46:14.514999Z",
     "iopub.status.idle": "2022-10-23T05:46:14.531305Z",
     "shell.execute_reply": "2022-10-23T05:46:14.530323Z"
    },
    "papermill": {
     "duration": 0.11981,
     "end_time": "2022-10-23T05:46:14.533596",
     "exception": false,
     "start_time": "2022-10-23T05:46:14.413786",
     "status": "completed"
    },
    "tags": []
   },
   "outputs": [
    {
     "data": {
      "text/html": [
       "<div>\n",
       "<style scoped>\n",
       "    .dataframe tbody tr th:only-of-type {\n",
       "        vertical-align: middle;\n",
       "    }\n",
       "\n",
       "    .dataframe tbody tr th {\n",
       "        vertical-align: top;\n",
       "    }\n",
       "\n",
       "    .dataframe thead th {\n",
       "        text-align: right;\n",
       "    }\n",
       "</style>\n",
       "<table border=\"1\" class=\"dataframe\">\n",
       "  <thead>\n",
       "    <tr style=\"text-align: right;\">\n",
       "      <th></th>\n",
       "      <th>id</th>\n",
       "      <th>tar</th>\n",
       "    </tr>\n",
       "  </thead>\n",
       "  <tbody>\n",
       "    <tr>\n",
       "      <th>0</th>\n",
       "      <td>10002998.0</td>\n",
       "      <td>3</td>\n",
       "    </tr>\n",
       "    <tr>\n",
       "      <th>1</th>\n",
       "      <td>10003172.0</td>\n",
       "      <td>4</td>\n",
       "    </tr>\n",
       "    <tr>\n",
       "      <th>2</th>\n",
       "      <td>20004712.0</td>\n",
       "      <td>4</td>\n",
       "    </tr>\n",
       "    <tr>\n",
       "      <th>3</th>\n",
       "      <td>20004205.0</td>\n",
       "      <td>5</td>\n",
       "    </tr>\n",
       "    <tr>\n",
       "      <th>4</th>\n",
       "      <td>20000346.0</td>\n",
       "      <td>3</td>\n",
       "    </tr>\n",
       "    <tr>\n",
       "      <th>...</th>\n",
       "      <td>...</td>\n",
       "      <td>...</td>\n",
       "    </tr>\n",
       "    <tr>\n",
       "      <th>553</th>\n",
       "      <td>20001798.0</td>\n",
       "      <td>3</td>\n",
       "    </tr>\n",
       "    <tr>\n",
       "      <th>554</th>\n",
       "      <td>10006153.0</td>\n",
       "      <td>5</td>\n",
       "    </tr>\n",
       "    <tr>\n",
       "      <th>555</th>\n",
       "      <td>10010660.0</td>\n",
       "      <td>4</td>\n",
       "    </tr>\n",
       "    <tr>\n",
       "      <th>556</th>\n",
       "      <td>10008746.0</td>\n",
       "      <td>4</td>\n",
       "    </tr>\n",
       "    <tr>\n",
       "      <th>557</th>\n",
       "      <td>20004939.0</td>\n",
       "      <td>5</td>\n",
       "    </tr>\n",
       "  </tbody>\n",
       "</table>\n",
       "<p>558 rows × 2 columns</p>\n",
       "</div>"
      ],
      "text/plain": [
       "             id  tar\n",
       "0    10002998.0    3\n",
       "1    10003172.0    4\n",
       "2    20004712.0    4\n",
       "3    20004205.0    5\n",
       "4    20000346.0    3\n",
       "..          ...  ...\n",
       "553  20001798.0    3\n",
       "554  10006153.0    5\n",
       "555  10010660.0    4\n",
       "556  10008746.0    4\n",
       "557  20004939.0    5\n",
       "\n",
       "[558 rows x 2 columns]"
      ]
     },
     "execution_count": 29,
     "metadata": {},
     "output_type": "execute_result"
    }
   ],
   "source": [
    "submission_df"
   ]
  },
  {
   "cell_type": "markdown",
   "id": "2b3c4c96",
   "metadata": {
    "papermill": {
     "duration": 0.063976,
     "end_time": "2022-10-23T05:46:14.696357",
     "exception": false,
     "start_time": "2022-10-23T05:46:14.632381",
     "status": "completed"
    },
    "tags": []
   },
   "source": [
    "### Now click on the \"Submit\" button to submit the notebook\n",
    "### NOTE: We expect everyone to generate such notebooks for your final submission. Only the teams with notebook submitted against their final submission will be considered for prize money!"
   ]
  },
  {
   "cell_type": "markdown",
   "id": "d30b0610",
   "metadata": {
    "papermill": {
     "duration": 0.064779,
     "end_time": "2022-10-23T05:46:14.825798",
     "exception": false,
     "start_time": "2022-10-23T05:46:14.761019",
     "status": "completed"
    },
    "tags": []
   },
   "source": [
    "### Things to try next:\n",
    "* Try different architectures, optimizers, loss functions etc.\n",
    "* Think of ways of tackling data imbalance problem.\n",
    "* Try different image size\n",
    "* Try Ensembling methods.\n",
    "* Apply semi supervised learning."
   ]
  },
  {
   "cell_type": "markdown",
   "id": "1e5db27d",
   "metadata": {
    "papermill": {
     "duration": 0.062912,
     "end_time": "2022-10-23T05:46:14.954067",
     "exception": false,
     "start_time": "2022-10-23T05:46:14.891155",
     "status": "completed"
    },
    "tags": []
   },
   "source": [
    "### PS: This competition is hosted to promote learning. So we request you to publish your baseline models via Kaggle kernels and discuss on the discussion tab to help others learn. Thanks!"
   ]
  }
 ],
 "metadata": {
  "kernelspec": {
   "display_name": "Python 3",
   "language": "python",
   "name": "python3"
  },
  "language_info": {
   "codemirror_mode": {
    "name": "ipython",
    "version": 3
   },
   "file_extension": ".py",
   "mimetype": "text/x-python",
   "name": "python",
   "nbconvert_exporter": "python",
   "pygments_lexer": "ipython3",
   "version": "3.7.12"
  },
  "papermill": {
   "default_parameters": {},
   "duration": 1126.219113,
   "end_time": "2022-10-23T05:46:17.652766",
   "environment_variables": {},
   "exception": null,
   "input_path": "__notebook__.ipynb",
   "output_path": "__notebook__.ipynb",
   "parameters": {},
   "start_time": "2022-10-23T05:27:31.433653",
   "version": "2.3.4"
  }
 },
 "nbformat": 4,
 "nbformat_minor": 5
}
